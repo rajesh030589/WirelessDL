{
 "cells": [
  {
   "cell_type": "code",
   "execution_count": 2,
   "source": [
    "import numpy as np\n",
    "import matlab.engine\n",
    "from datetime import date\n",
    "import os\n",
    "import scipy.io as sio\n",
    "import pickle as pkl\n",
    "import matplotlib.pyplot as plt\n",
    "import os\n",
    "from Sanity import check_dataset\n",
    "from tqdm import tqdm\n",
    "from data_utils import save_datafiles, plot_histogram"
   ],
   "outputs": [],
   "metadata": {}
  },
  {
   "cell_type": "code",
   "execution_count": null,
   "source": [
    "OTA_data = True\n",
    "Frame_802_11 = True"
   ],
   "outputs": [],
   "metadata": {}
  },
  {
   "cell_type": "code",
   "execution_count": null,
   "source": [
    "eng = matlab.engine.start_matlab()"
   ],
   "outputs": [],
   "metadata": {}
  },
  {
   "cell_type": "code",
   "execution_count": null,
   "source": [
    "# Generate TX\n",
    "if Frame_802_11:\n",
    "    eng.TX_data_generate(\"802_11 Framed\", nargout=0)\n",
    "else:\n",
    "    eng.TX_data_generate(\"Raw Data\", nargout=0)\n",
    "# Pass through Channel\n",
    "\n",
    "if OTA_data:\n",
    "    os.system(\"python3 flow_graph_TX.py\")\n",
    "else:\n",
    "    eng.awgn_channel(\"complex_noise\", nargout=0)"
   ],
   "outputs": [],
   "metadata": {}
  }
 ],
 "metadata": {
  "orig_nbformat": 4,
  "language_info": {
   "name": "python",
   "version": "3.8.10",
   "mimetype": "text/x-python",
   "codemirror_mode": {
    "name": "ipython",
    "version": 3
   },
   "pygments_lexer": "ipython3",
   "nbconvert_exporter": "python",
   "file_extension": ".py"
  },
  "kernelspec": {
   "name": "python3",
   "display_name": "Python 3.8.10 64-bit"
  },
  "interpreter": {
   "hash": "916dbcbb3f70747c44a77c7bcd40155683ae19c65e1c03b4aa3499c5328201f1"
  }
 },
 "nbformat": 4,
 "nbformat_minor": 2
}