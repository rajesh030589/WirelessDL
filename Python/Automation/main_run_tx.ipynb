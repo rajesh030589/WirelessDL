{
 "cells": [
  {
   "cell_type": "code",
   "execution_count": 24,
   "metadata": {},
   "outputs": [],
   "source": [
    "import numpy as np\n",
    "import matlab.engine\n",
    "import os\n",
    "import signal\n",
    "import time\n",
    "import scipy.io as sio\n",
    "import time"
   ]
  },
  {
   "cell_type": "code",
   "execution_count": 25,
   "metadata": {},
   "outputs": [],
   "source": [
    "eng = matlab.engine.start_matlab()\n",
    "N_captures = 10"
   ]
  },
  {
   "cell_type": "markdown",
   "metadata": {},
   "source": [
    "## Transmission 1"
   ]
  },
  {
   "cell_type": "code",
   "execution_count": 26,
   "metadata": {},
   "outputs": [
    {
     "name": "stderr",
     "output_type": "stream",
     "text": [
      "[INFO] [UHD] linux; GNU C++ version 9.3.0; Boost_107100; UHD_4.2.0.git-32-ga7486cbf\n",
      "[INFO] [USRP2] Opening a USRP2/N-Series device...\n",
      "[INFO] [USRP2] Current recv frame size: 1472 bytes\n",
      "[INFO] [USRP2] Current send frame size: 1472 bytes\n",
      "[WARNING] [UDP] The recv buffer could not be resized sufficiently.\n",
      "Target sock buff size: 50000000 bytes.\n",
      "Actual sock buff size: 212992 bytes.\n",
      "See the transport application notes on buffer resizing.\n",
      "Please run: sudo sysctl -w net.core.rmem_max=50000000\n",
      "[WARNING] [UDP] The send buffer could not be resized sufficiently.\n",
      "Target sock buff size: 2500000 bytes.\n",
      "Actual sock buff size: 212992 bytes.\n",
      "See the transport application notes on buffer resizing.\n",
      "Please run: sudo sysctl -w net.core.wmem_max=2500000\n",
      "[WARNING] [UDP] The current recv_buff_size of 50000000 is less than the minimum recommended size of 307200 and may result in dropped packets on some NICs\n",
      "[WARNING] [UDP] The current send_buff_size of 2500000 is less than the minimum recommended size of 307200 and may result in dropped packets on some NICs\n",
      "[WARNING] [UDP] The recv buffer could not be resized sufficiently.\n",
      "Target sock buff size: 50000000 bytes.\n",
      "Actual sock buff size: 212992 bytes.\n",
      "See the transport application notes on buffer resizing.\n",
      "Please run: sudo sysctl -w net.core.rmem_max=50000000\n",
      "[WARNING] [UDP] The send buffer could not be resized sufficiently.\n",
      "Target sock buff size: 2500000 bytes.\n",
      "Actual sock buff size: 212992 bytes.\n",
      "See the transport application notes on buffer resizing.\n",
      "Please run: sudo sysctl -w net.core.wmem_max=2500000\n",
      "[WARNING] [UDP] The current recv_buff_size of 50000000 is less than the minimum recommended size of 307200 and may result in dropped packets on some NICs\n",
      "[WARNING] [UDP] The current send_buff_size of 2500000 is less than the minimum recommended size of 307200 and may result in dropped packets on some NICs\n",
      "[WARNING] [UDP] The recv buffer could not be resized sufficiently.\n",
      "Target sock buff size: 2500000 bytes.\n",
      "Actual sock buff size: 212992 bytes.\n",
      "See the transport application notes on buffer resizing.\n",
      "Please run: sudo sysctl -w net.core.rmem_max=2500000\n",
      "[WARNING] [UDP] The send buffer could not be resized sufficiently.\n",
      "Target sock buff size: 1048576 bytes.\n",
      "Actual sock buff size: 212992 bytes.\n",
      "See the transport application notes on buffer resizing.\n",
      "Please run: sudo sysctl -w net.core.wmem_max=1048576\n",
      "[WARNING] [UDP] The current recv_buff_size of 2500000 is less than the minimum recommended size of 307200 and may result in dropped packets on some NICs\n",
      "[WARNING] [UDP] The current send_buff_size of 1048576 is less than the minimum recommended size of 307200 and may result in dropped packets on some NICs\n",
      "[WARNING] [UDP] The recv buffer could not be resized sufficiently.\n",
      "Target sock buff size: 2500000 bytes.\n",
      "Actual sock buff size: 212992 bytes.\n",
      "See the transport application notes on buffer resizing.\n",
      "Please run: sudo sysctl -w net.core.rmem_max=2500000\n",
      "[WARNING] [UDP] The send buffer could not be resized sufficiently.\n",
      "Target sock buff size: 2500000 bytes.\n",
      "Actual sock buff size: 212992 bytes.\n",
      "See the transport application notes on buffer resizing.\n",
      "Please run: sudo sysctl -w net.core.wmem_max=2500000\n",
      "[WARNING] [UDP] The current recv_buff_size of 2500000 is less than the minimum recommended size of 307200 and may result in dropped packets on some NICs\n",
      "[WARNING] [UDP] The current send_buff_size of 2500000 is less than the minimum recommended size of 307200 and may result in dropped packets on some NICs\n",
      "[WARNING] [UHD] Unable to set the thread priority. Performance may be negatively affected.\n",
      "Please see the general application notes in the manual for instructions.\n",
      "EnvironmentError: OSError: error in pthread_setschedparam\n"
     ]
    },
    {
     "data": {
      "text/plain": [
       "2"
      ]
     },
     "execution_count": 26,
     "metadata": {},
     "output_type": "execute_result"
    }
   ],
   "source": [
    "eng.TX_Feedback_Encoder1(nargout=0)\n",
    "os.system(\"python3 flow_graph_TX.py\")"
   ]
  },
  {
   "cell_type": "markdown",
   "metadata": {},
   "source": [
    "## Reception 1"
   ]
  },
  {
   "cell_type": "code",
   "execution_count": 27,
   "metadata": {},
   "outputs": [
    {
     "name": "stderr",
     "output_type": "stream",
     "text": [
      "[INFO] [UHD] linux; GNU C++ version 9.3.0; Boost_107100; UHD_4.2.0.git-32-ga7486cbf\n",
      "[INFO] [USRP2] Opening a USRP2/N-Series device...\n",
      "[INFO] [USRP2] Current recv frame size: 1472 bytes\n",
      "[INFO] [USRP2] Current send frame size: 1472 bytes\n",
      "[WARNING] [UDP] The recv buffer could not be resized sufficiently.\n",
      "Target sock buff size: 50000000 bytes.\n",
      "Actual sock buff size: 212992 bytes.\n",
      "See the transport application notes on buffer resizing.\n",
      "Please run: sudo sysctl -w net.core.rmem_max=50000000\n",
      "[WARNING] [UDP] The send buffer could not be resized sufficiently.\n",
      "Target sock buff size: 2500000 bytes.\n",
      "Actual sock buff size: 212992 bytes.\n",
      "See the transport application notes on buffer resizing.\n",
      "Please run: sudo sysctl -w net.core.wmem_max=2500000\n",
      "[WARNING] [UDP] The current recv_buff_size of 50000000 is less than the minimum recommended size of 307200 and may result in dropped packets on some NICs\n",
      "[WARNING] [UDP] The current send_buff_size of 2500000 is less than the minimum recommended size of 307200 and may result in dropped packets on some NICs\n",
      "[WARNING] [UDP] The recv buffer could not be resized sufficiently.\n",
      "Target sock buff size: 50000000 bytes.\n",
      "Actual sock buff size: 212992 bytes.\n",
      "See the transport application notes on buffer resizing.\n",
      "Please run: sudo sysctl -w net.core.rmem_max=50000000\n",
      "[WARNING] [UDP] The send buffer could not be resized sufficiently.\n",
      "Target sock buff size: 2500000 bytes.\n",
      "Actual sock buff size: 212992 bytes.\n",
      "See the transport application notes on buffer resizing.\n",
      "Please run: sudo sysctl -w net.core.wmem_max=2500000\n",
      "[WARNING] [UDP] The current recv_buff_size of 50000000 is less than the minimum recommended size of 307200 and may result in dropped packets on some NICs\n",
      "[WARNING] [UDP] The current send_buff_size of 2500000 is less than the minimum recommended size of 307200 and may result in dropped packets on some NICs\n",
      "[WARNING] [UDP] The recv buffer could not be resized sufficiently.\n",
      "Target sock buff size: 2500000 bytes.\n",
      "Actual sock buff size: 212992 bytes.\n",
      "See the transport application notes on buffer resizing.\n",
      "Please run: sudo sysctl -w net.core.rmem_max=2500000\n",
      "[WARNING] [UDP] The send buffer could not be resized sufficiently.\n",
      "Target sock buff size: 1048576 bytes.\n",
      "Actual sock buff size: 212992 bytes.\n",
      "See the transport application notes on buffer resizing.\n",
      "Please run: sudo sysctl -w net.core.wmem_max=1048576\n",
      "[WARNING] [UDP] The current recv_buff_size of 2500000 is less than the minimum recommended size of 307200 and may result in dropped packets on some NICs\n",
      "[WARNING] [UDP] The current send_buff_size of 1048576 is less than the minimum recommended size of 307200 and may result in dropped packets on some NICs\n",
      "[WARNING] [UDP] The recv buffer could not be resized sufficiently.\n",
      "Target sock buff size: 2500000 bytes.\n",
      "Actual sock buff size: 212992 bytes.\n",
      "See the transport application notes on buffer resizing.\n",
      "Please run: sudo sysctl -w net.core.rmem_max=2500000\n",
      "[WARNING] [UDP] The send buffer could not be resized sufficiently.\n",
      "Target sock buff size: 2500000 bytes.\n",
      "Actual sock buff size: 212992 bytes.\n",
      "See the transport application notes on buffer resizing.\n",
      "Please run: sudo sysctl -w net.core.wmem_max=2500000\n",
      "[WARNING] [UDP] The current recv_buff_size of 2500000 is less than the minimum recommended size of 307200 and may result in dropped packets on some NICs\n",
      "[WARNING] [UDP] The current send_buff_size of 2500000 is less than the minimum recommended size of 307200 and may result in dropped packets on some NICs\n",
      "[WARNING] [UHD] Unable to set the thread priority. Performance may be negatively affected.\n",
      "Please see the general application notes in the manual for instructions.\n",
      "EnvironmentError: OSError: error in pthread_setschedparam\n",
      "[WARNING] [MULTI_USRP] Setting IQ imbalance compensation is not possible on this device.\n"
     ]
    },
    {
     "name": "stdout",
     "output_type": "stream",
     "text": [
      "Frame: 2  SNR:  28.76  BER: 0.0000\n",
      "Frame: 3  SNR:  27.64  BER: 0.0000\n",
      "Frame: 4  SNR:  28.06  BER: 0.0000\n",
      "Frame: 5  SNR:  28.50  BER: 0.0000\n",
      "Frame: 6  SNR:  27.82  BER: 0.0000\n",
      "Frame: 7  SNR:  27.67  BER: 0.0000\n",
      "Frame: 8  SNR:  29.11  BER: 0.0000\n",
      "Frame: 9  SNR:  28.49  BER: 0.0000\n",
      "Frame: 0  SNR:  28.65  BER: 0.0003\n",
      "Frame: 1  SNR:  28.30  BER: 0.0000\n",
      "All frames captured\n"
     ]
    }
   ],
   "source": [
    "eng.frame_capture_1_2(nargout=0)\n",
    "for i in range(N_captures):\n",
    "    frame_capture = sio.loadmat(\"frame_capture.mat\")\n",
    "    frame_capture = frame_capture[\"frame_capture\"]\n",
    "    if np.count_nonzero(frame_capture) == len(frame_capture):\n",
    "        break\n",
    "    os.system(\"python3 flow_graph_RX.py\")\n",
    "    eng.TX_Feedback_Decoder1(nargout=0)"
   ]
  },
  {
   "cell_type": "markdown",
   "metadata": {},
   "source": [
    "## Transmission 2"
   ]
  },
  {
   "cell_type": "code",
   "execution_count": 28,
   "metadata": {},
   "outputs": [
    {
     "name": "stderr",
     "output_type": "stream",
     "text": [
      "[INFO] [UHD] linux; GNU C++ version 9.3.0; Boost_107100; UHD_4.2.0.git-32-ga7486cbf\n",
      "[INFO] [USRP2] Opening a USRP2/N-Series device...\n",
      "[INFO] [USRP2] Current recv frame size: 1472 bytes\n",
      "[INFO] [USRP2] Current send frame size: 1472 bytes\n",
      "[WARNING] [UDP] The recv buffer could not be resized sufficiently.\n",
      "Target sock buff size: 50000000 bytes.\n",
      "Actual sock buff size: 212992 bytes.\n",
      "See the transport application notes on buffer resizing.\n",
      "Please run: sudo sysctl -w net.core.rmem_max=50000000\n",
      "[WARNING] [UDP] The send buffer could not be resized sufficiently.\n",
      "Target sock buff size: 2500000 bytes.\n",
      "Actual sock buff size: 212992 bytes.\n",
      "See the transport application notes on buffer resizing.\n",
      "Please run: sudo sysctl -w net.core.wmem_max=2500000\n",
      "[WARNING] [UDP] The current recv_buff_size of 50000000 is less than the minimum recommended size of 307200 and may result in dropped packets on some NICs\n",
      "[WARNING] [UDP] The current send_buff_size of 2500000 is less than the minimum recommended size of 307200 and may result in dropped packets on some NICs\n",
      "[WARNING] [UDP] The recv buffer could not be resized sufficiently.\n",
      "Target sock buff size: 50000000 bytes.\n",
      "Actual sock buff size: 212992 bytes.\n",
      "See the transport application notes on buffer resizing.\n",
      "Please run: sudo sysctl -w net.core.rmem_max=50000000\n",
      "[WARNING] [UDP] The send buffer could not be resized sufficiently.\n",
      "Target sock buff size: 2500000 bytes.\n",
      "Actual sock buff size: 212992 bytes.\n",
      "See the transport application notes on buffer resizing.\n",
      "Please run: sudo sysctl -w net.core.wmem_max=2500000\n",
      "[WARNING] [UDP] The current recv_buff_size of 50000000 is less than the minimum recommended size of 307200 and may result in dropped packets on some NICs\n",
      "[WARNING] [UDP] The current send_buff_size of 2500000 is less than the minimum recommended size of 307200 and may result in dropped packets on some NICs\n",
      "[WARNING] [UDP] The recv buffer could not be resized sufficiently.\n",
      "Target sock buff size: 2500000 bytes.\n",
      "Actual sock buff size: 212992 bytes.\n",
      "See the transport application notes on buffer resizing.\n",
      "Please run: sudo sysctl -w net.core.rmem_max=2500000\n",
      "[WARNING] [UDP] The send buffer could not be resized sufficiently.\n",
      "Target sock buff size: 1048576 bytes.\n",
      "Actual sock buff size: 212992 bytes.\n",
      "See the transport application notes on buffer resizing.\n",
      "Please run: sudo sysctl -w net.core.wmem_max=1048576\n",
      "[WARNING] [UDP] The current recv_buff_size of 2500000 is less than the minimum recommended size of 307200 and may result in dropped packets on some NICs\n",
      "[WARNING] [UDP] The current send_buff_size of 1048576 is less than the minimum recommended size of 307200 and may result in dropped packets on some NICs\n",
      "[WARNING] [UDP] The recv buffer could not be resized sufficiently.\n",
      "Target sock buff size: 2500000 bytes.\n",
      "Actual sock buff size: 212992 bytes.\n",
      "See the transport application notes on buffer resizing.\n",
      "Please run: sudo sysctl -w net.core.rmem_max=2500000\n",
      "[WARNING] [UDP] The send buffer could not be resized sufficiently.\n",
      "Target sock buff size: 2500000 bytes.\n",
      "Actual sock buff size: 212992 bytes.\n",
      "See the transport application notes on buffer resizing.\n",
      "Please run: sudo sysctl -w net.core.wmem_max=2500000\n",
      "[WARNING] [UDP] The current recv_buff_size of 2500000 is less than the minimum recommended size of 307200 and may result in dropped packets on some NICs\n",
      "[WARNING] [UDP] The current send_buff_size of 2500000 is less than the minimum recommended size of 307200 and may result in dropped packets on some NICs\n",
      "[WARNING] [UHD] Unable to set the thread priority. Performance may be negatively affected.\n",
      "Please see the general application notes in the manual for instructions.\n",
      "EnvironmentError: OSError: error in pthread_setschedparam\n"
     ]
    },
    {
     "data": {
      "text/plain": [
       "2"
      ]
     },
     "execution_count": 28,
     "metadata": {},
     "output_type": "execute_result"
    }
   ],
   "source": [
    "eng.TX_Feedback_Encoder2(nargout=0)\n",
    "os.system(\"python3 flow_graph_TX.py\")"
   ]
  },
  {
   "cell_type": "markdown",
   "metadata": {},
   "source": [
    "## Reception 2"
   ]
  },
  {
   "cell_type": "code",
   "execution_count": 29,
   "metadata": {},
   "outputs": [
    {
     "name": "stderr",
     "output_type": "stream",
     "text": [
      "[INFO] [UHD] linux; GNU C++ version 9.3.0; Boost_107100; UHD_4.2.0.git-32-ga7486cbf\n",
      "[INFO] [USRP2] Opening a USRP2/N-Series device...\n",
      "[INFO] [USRP2] Current recv frame size: 1472 bytes\n",
      "[INFO] [USRP2] Current send frame size: 1472 bytes\n",
      "[WARNING] [UDP] The recv buffer could not be resized sufficiently.\n",
      "Target sock buff size: 50000000 bytes.\n",
      "Actual sock buff size: 212992 bytes.\n",
      "See the transport application notes on buffer resizing.\n",
      "Please run: sudo sysctl -w net.core.rmem_max=50000000\n",
      "[WARNING] [UDP] The send buffer could not be resized sufficiently.\n",
      "Target sock buff size: 2500000 bytes.\n",
      "Actual sock buff size: 212992 bytes.\n",
      "See the transport application notes on buffer resizing.\n",
      "Please run: sudo sysctl -w net.core.wmem_max=2500000\n",
      "[WARNING] [UDP] The current recv_buff_size of 50000000 is less than the minimum recommended size of 307200 and may result in dropped packets on some NICs\n",
      "[WARNING] [UDP] The current send_buff_size of 2500000 is less than the minimum recommended size of 307200 and may result in dropped packets on some NICs\n",
      "[WARNING] [UDP] The recv buffer could not be resized sufficiently.\n",
      "Target sock buff size: 50000000 bytes.\n",
      "Actual sock buff size: 212992 bytes.\n",
      "See the transport application notes on buffer resizing.\n",
      "Please run: sudo sysctl -w net.core.rmem_max=50000000\n",
      "[WARNING] [UDP] The send buffer could not be resized sufficiently.\n",
      "Target sock buff size: 2500000 bytes.\n",
      "Actual sock buff size: 212992 bytes.\n",
      "See the transport application notes on buffer resizing.\n",
      "Please run: sudo sysctl -w net.core.wmem_max=2500000\n",
      "[WARNING] [UDP] The current recv_buff_size of 50000000 is less than the minimum recommended size of 307200 and may result in dropped packets on some NICs\n",
      "[WARNING] [UDP] The current send_buff_size of 2500000 is less than the minimum recommended size of 307200 and may result in dropped packets on some NICs\n",
      "[WARNING] [UDP] The recv buffer could not be resized sufficiently.\n",
      "Target sock buff size: 2500000 bytes.\n",
      "Actual sock buff size: 212992 bytes.\n",
      "See the transport application notes on buffer resizing.\n",
      "Please run: sudo sysctl -w net.core.rmem_max=2500000\n",
      "[WARNING] [UDP] The send buffer could not be resized sufficiently.\n",
      "Target sock buff size: 1048576 bytes.\n",
      "Actual sock buff size: 212992 bytes.\n",
      "See the transport application notes on buffer resizing.\n",
      "Please run: sudo sysctl -w net.core.wmem_max=1048576\n",
      "[WARNING] [UDP] The current recv_buff_size of 2500000 is less than the minimum recommended size of 307200 and may result in dropped packets on some NICs\n",
      "[WARNING] [UDP] The current send_buff_size of 1048576 is less than the minimum recommended size of 307200 and may result in dropped packets on some NICs\n",
      "[WARNING] [UDP] The recv buffer could not be resized sufficiently.\n",
      "Target sock buff size: 2500000 bytes.\n",
      "Actual sock buff size: 212992 bytes.\n",
      "See the transport application notes on buffer resizing.\n",
      "Please run: sudo sysctl -w net.core.rmem_max=2500000\n",
      "[WARNING] [UDP] The send buffer could not be resized sufficiently.\n",
      "Target sock buff size: 2500000 bytes.\n",
      "Actual sock buff size: 212992 bytes.\n",
      "See the transport application notes on buffer resizing.\n",
      "Please run: sudo sysctl -w net.core.wmem_max=2500000\n",
      "[WARNING] [UDP] The current recv_buff_size of 2500000 is less than the minimum recommended size of 307200 and may result in dropped packets on some NICs\n",
      "[WARNING] [UDP] The current send_buff_size of 2500000 is less than the minimum recommended size of 307200 and may result in dropped packets on some NICs\n",
      "[WARNING] [UHD] Unable to set the thread priority. Performance may be negatively affected.\n",
      "Please see the general application notes in the manual for instructions.\n",
      "EnvironmentError: OSError: error in pthread_setschedparam\n",
      "[WARNING] [MULTI_USRP] Setting IQ imbalance compensation is not possible on this device.\n"
     ]
    },
    {
     "name": "stdout",
     "output_type": "stream",
     "text": [
      "Frame: 5  SNR:  23.19  BER: 0.0000\n",
      "Frame: 6  SNR:  23.55  BER: 0.0000\n",
      "Frame: 7  SNR:  24.22  BER: 0.0000\n",
      "Frame: 8  SNR:  23.95  BER: 0.0000\n",
      "Frame: 9  SNR:  26.05  BER: 0.0000\n",
      "Frame: 0  SNR:  25.91  BER: 0.0000\n",
      "Frame: 1  SNR:  25.76  BER: 0.0000\n",
      "Frame: 2  SNR:  25.51  BER: 0.0000\n",
      "Frame: 3  SNR:  25.31  BER: 0.0000\n",
      "Frame: 4  SNR:  25.52  BER: 0.0000\n",
      "All frames captured\n"
     ]
    }
   ],
   "source": [
    "eng.frame_capture_1_3(nargout=0)\n",
    "for i in range(N_captures):\n",
    "    frame_capture = sio.loadmat(\"frame_capture.mat\")\n",
    "    frame_capture = frame_capture[\"frame_capture\"]\n",
    "    if np.count_nonzero(frame_capture) == len(frame_capture):\n",
    "        break\n",
    "    os.system(\"python3 flow_graph_RX.py\")\n",
    "    eng.TX_Feedback_Decoder2(nargout=0)"
   ]
  },
  {
   "cell_type": "markdown",
   "metadata": {},
   "source": [
    "## Transmission 3"
   ]
  },
  {
   "cell_type": "code",
   "execution_count": 30,
   "metadata": {},
   "outputs": [
    {
     "name": "stderr",
     "output_type": "stream",
     "text": [
      "[INFO] [UHD] linux; GNU C++ version 9.3.0; Boost_107100; UHD_4.2.0.git-32-ga7486cbf\n",
      "[INFO] [USRP2] Opening a USRP2/N-Series device...\n",
      "[INFO] [USRP2] Current recv frame size: 1472 bytes\n",
      "[INFO] [USRP2] Current send frame size: 1472 bytes\n",
      "[WARNING] [UDP] The recv buffer could not be resized sufficiently.\n",
      "Target sock buff size: 50000000 bytes.\n",
      "Actual sock buff size: 212992 bytes.\n",
      "See the transport application notes on buffer resizing.\n",
      "Please run: sudo sysctl -w net.core.rmem_max=50000000\n",
      "[WARNING] [UDP] The send buffer could not be resized sufficiently.\n",
      "Target sock buff size: 2500000 bytes.\n",
      "Actual sock buff size: 212992 bytes.\n",
      "See the transport application notes on buffer resizing.\n",
      "Please run: sudo sysctl -w net.core.wmem_max=2500000\n",
      "[WARNING] [UDP] The current recv_buff_size of 50000000 is less than the minimum recommended size of 307200 and may result in dropped packets on some NICs\n",
      "[WARNING] [UDP] The current send_buff_size of 2500000 is less than the minimum recommended size of 307200 and may result in dropped packets on some NICs\n",
      "[WARNING] [UDP] The recv buffer could not be resized sufficiently.\n",
      "Target sock buff size: 50000000 bytes.\n",
      "Actual sock buff size: 212992 bytes.\n",
      "See the transport application notes on buffer resizing.\n",
      "Please run: sudo sysctl -w net.core.rmem_max=50000000\n",
      "[WARNING] [UDP] The send buffer could not be resized sufficiently.\n",
      "Target sock buff size: 2500000 bytes.\n",
      "Actual sock buff size: 212992 bytes.\n",
      "See the transport application notes on buffer resizing.\n",
      "Please run: sudo sysctl -w net.core.wmem_max=2500000\n",
      "[WARNING] [UDP] The current recv_buff_size of 50000000 is less than the minimum recommended size of 307200 and may result in dropped packets on some NICs\n",
      "[WARNING] [UDP] The current send_buff_size of 2500000 is less than the minimum recommended size of 307200 and may result in dropped packets on some NICs\n",
      "[WARNING] [UDP] The recv buffer could not be resized sufficiently.\n",
      "Target sock buff size: 2500000 bytes.\n",
      "Actual sock buff size: 212992 bytes.\n",
      "See the transport application notes on buffer resizing.\n",
      "Please run: sudo sysctl -w net.core.rmem_max=2500000\n",
      "[WARNING] [UDP] The send buffer could not be resized sufficiently.\n",
      "Target sock buff size: 1048576 bytes.\n",
      "Actual sock buff size: 212992 bytes.\n",
      "See the transport application notes on buffer resizing.\n",
      "Please run: sudo sysctl -w net.core.wmem_max=1048576\n",
      "[WARNING] [UDP] The current recv_buff_size of 2500000 is less than the minimum recommended size of 307200 and may result in dropped packets on some NICs\n",
      "[WARNING] [UDP] The current send_buff_size of 1048576 is less than the minimum recommended size of 307200 and may result in dropped packets on some NICs\n",
      "[WARNING] [UDP] The recv buffer could not be resized sufficiently.\n",
      "Target sock buff size: 2500000 bytes.\n",
      "Actual sock buff size: 212992 bytes.\n",
      "See the transport application notes on buffer resizing.\n",
      "Please run: sudo sysctl -w net.core.rmem_max=2500000\n",
      "[WARNING] [UDP] The send buffer could not be resized sufficiently.\n",
      "Target sock buff size: 2500000 bytes.\n",
      "Actual sock buff size: 212992 bytes.\n",
      "See the transport application notes on buffer resizing.\n",
      "Please run: sudo sysctl -w net.core.wmem_max=2500000\n",
      "[WARNING] [UDP] The current recv_buff_size of 2500000 is less than the minimum recommended size of 307200 and may result in dropped packets on some NICs\n",
      "[WARNING] [UDP] The current send_buff_size of 2500000 is less than the minimum recommended size of 307200 and may result in dropped packets on some NICs\n",
      "[WARNING] [UHD] Unable to set the thread priority. Performance may be negatively affected.\n",
      "Please see the general application notes in the manual for instructions.\n",
      "EnvironmentError: OSError: error in pthread_setschedparam\n"
     ]
    },
    {
     "data": {
      "text/plain": [
       "2"
      ]
     },
     "execution_count": 30,
     "metadata": {},
     "output_type": "execute_result"
    }
   ],
   "source": [
    "eng.TX_Feedback_Encoder3(nargout=0)\n",
    "os.system(\"python3 flow_graph_TX.py\")"
   ]
  }
 ],
 "metadata": {
  "interpreter": {
   "hash": "916dbcbb3f70747c44a77c7bcd40155683ae19c65e1c03b4aa3499c5328201f1"
  },
  "kernelspec": {
   "display_name": "Python 3.8.10 64-bit",
   "name": "python3"
  },
  "language_info": {
   "codemirror_mode": {
    "name": "ipython",
    "version": 3
   },
   "file_extension": ".py",
   "mimetype": "text/x-python",
   "name": "python",
   "nbconvert_exporter": "python",
   "pygments_lexer": "ipython3",
   "version": "3.8.10"
  },
  "orig_nbformat": 4
 },
 "nbformat": 4,
 "nbformat_minor": 2
}
