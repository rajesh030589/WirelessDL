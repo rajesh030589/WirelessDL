{
 "cells": [
  {
   "cell_type": "code",
   "execution_count": 12,
   "metadata": {},
   "outputs": [],
   "source": [
    "import numpy as np\n",
    "import matlab.engine\n",
    "import os\n",
    "import signal\n",
    "import time\n",
    "import scipy.io as sio\n",
    "import time"
   ]
  },
  {
   "cell_type": "code",
   "execution_count": 13,
   "metadata": {},
   "outputs": [],
   "source": [
    "eng = matlab.engine.start_matlab()\n",
    "N_captures = 10"
   ]
  },
  {
   "cell_type": "markdown",
   "metadata": {},
   "source": [
    "## Transmission 1"
   ]
  },
  {
   "cell_type": "code",
   "execution_count": 14,
   "metadata": {},
   "outputs": [
    {
     "name": "stderr",
     "output_type": "stream",
     "text": [
      "[INFO] [UHD] linux; GNU C++ version 9.3.0; Boost_107100; UHD_4.2.0.git-32-ga7486cbf\n",
      "[INFO] [USRP2] Opening a USRP2/N-Series device...\n",
      "[INFO] [USRP2] Current recv frame size: 1472 bytes\n",
      "[INFO] [USRP2] Current send frame size: 1472 bytes\n",
      "[WARNING] [UDP] The recv buffer could not be resized sufficiently.\n",
      "Target sock buff size: 50000000 bytes.\n",
      "Actual sock buff size: 212992 bytes.\n",
      "See the transport application notes on buffer resizing.\n",
      "Please run: sudo sysctl -w net.core.rmem_max=50000000\n",
      "[WARNING] [UDP] The send buffer could not be resized sufficiently.\n",
      "Target sock buff size: 2500000 bytes.\n",
      "Actual sock buff size: 212992 bytes.\n",
      "See the transport application notes on buffer resizing.\n",
      "Please run: sudo sysctl -w net.core.wmem_max=2500000\n",
      "[WARNING] [UDP] The current recv_buff_size of 50000000 is less than the minimum recommended size of 307200 and may result in dropped packets on some NICs\n",
      "[WARNING] [UDP] The current send_buff_size of 2500000 is less than the minimum recommended size of 307200 and may result in dropped packets on some NICs\n",
      "[WARNING] [UDP] The recv buffer could not be resized sufficiently.\n",
      "Target sock buff size: 50000000 bytes.\n",
      "Actual sock buff size: 212992 bytes.\n",
      "See the transport application notes on buffer resizing.\n",
      "Please run: sudo sysctl -w net.core.rmem_max=50000000\n",
      "[WARNING] [UDP] The send buffer could not be resized sufficiently.\n",
      "Target sock buff size: 2500000 bytes.\n",
      "Actual sock buff size: 212992 bytes.\n",
      "See the transport application notes on buffer resizing.\n",
      "Please run: sudo sysctl -w net.core.wmem_max=2500000\n",
      "[WARNING] [UDP] The current recv_buff_size of 50000000 is less than the minimum recommended size of 307200 and may result in dropped packets on some NICs\n",
      "[WARNING] [UDP] The current send_buff_size of 2500000 is less than the minimum recommended size of 307200 and may result in dropped packets on some NICs\n",
      "[WARNING] [UDP] The recv buffer could not be resized sufficiently.\n",
      "Target sock buff size: 2500000 bytes.\n",
      "Actual sock buff size: 212992 bytes.\n",
      "See the transport application notes on buffer resizing.\n",
      "Please run: sudo sysctl -w net.core.rmem_max=2500000\n",
      "[WARNING] [UDP] The send buffer could not be resized sufficiently.\n",
      "Target sock buff size: 1048576 bytes.\n",
      "Actual sock buff size: 212992 bytes.\n",
      "See the transport application notes on buffer resizing.\n",
      "Please run: sudo sysctl -w net.core.wmem_max=1048576\n",
      "[WARNING] [UDP] The current recv_buff_size of 2500000 is less than the minimum recommended size of 307200 and may result in dropped packets on some NICs\n",
      "[WARNING] [UDP] The current send_buff_size of 1048576 is less than the minimum recommended size of 307200 and may result in dropped packets on some NICs\n",
      "[WARNING] [UDP] The recv buffer could not be resized sufficiently.\n",
      "Target sock buff size: 2500000 bytes.\n",
      "Actual sock buff size: 212992 bytes.\n",
      "See the transport application notes on buffer resizing.\n",
      "Please run: sudo sysctl -w net.core.rmem_max=2500000\n",
      "[WARNING] [UDP] The send buffer could not be resized sufficiently.\n",
      "Target sock buff size: 2500000 bytes.\n",
      "Actual sock buff size: 212992 bytes.\n",
      "See the transport application notes on buffer resizing.\n",
      "Please run: sudo sysctl -w net.core.wmem_max=2500000\n",
      "[WARNING] [UDP] The current recv_buff_size of 2500000 is less than the minimum recommended size of 307200 and may result in dropped packets on some NICs\n",
      "[WARNING] [UDP] The current send_buff_size of 2500000 is less than the minimum recommended size of 307200 and may result in dropped packets on some NICs\n",
      "[WARNING] [UHD] Unable to set the thread priority. Performance may be negatively affected.\n",
      "Please see the general application notes in the manual for instructions.\n",
      "EnvironmentError: OSError: error in pthread_setschedparam\n"
     ]
    },
    {
     "data": {
      "text/plain": [
       "2"
      ]
     },
     "execution_count": 14,
     "metadata": {},
     "output_type": "execute_result"
    }
   ],
   "source": [
    "eng.TX_Feedback_Encoder1(nargout=0)\n",
    "os.system(\"python3 flow_graph_TX.py\")"
   ]
  },
  {
   "cell_type": "markdown",
   "metadata": {},
   "source": [
    "## Reception 1"
   ]
  },
  {
   "cell_type": "code",
   "execution_count": 8,
   "metadata": {},
   "outputs": [
    {
     "name": "stderr",
     "output_type": "stream",
     "text": [
      "[INFO] [UHD] linux; GNU C++ version 9.3.0; Boost_107100; UHD_4.2.0.git-32-ga7486cbf\n",
      "[INFO] [USRP2] Opening a USRP2/N-Series device...\n",
      "[INFO] [USRP2] Current recv frame size: 1472 bytes\n",
      "[INFO] [USRP2] Current send frame size: 1472 bytes\n",
      "[WARNING] [UDP] The recv buffer could not be resized sufficiently.\n",
      "Target sock buff size: 50000000 bytes.\n",
      "Actual sock buff size: 212992 bytes.\n",
      "See the transport application notes on buffer resizing.\n",
      "Please run: sudo sysctl -w net.core.rmem_max=50000000\n",
      "[WARNING] [UDP] The send buffer could not be resized sufficiently.\n",
      "Target sock buff size: 2500000 bytes.\n",
      "Actual sock buff size: 212992 bytes.\n",
      "See the transport application notes on buffer resizing.\n",
      "Please run: sudo sysctl -w net.core.wmem_max=2500000\n",
      "[WARNING] [UDP] The current recv_buff_size of 50000000 is less than the minimum recommended size of 307200 and may result in dropped packets on some NICs\n",
      "[WARNING] [UDP] The current send_buff_size of 2500000 is less than the minimum recommended size of 307200 and may result in dropped packets on some NICs\n",
      "[WARNING] [UDP] The recv buffer could not be resized sufficiently.\n",
      "Target sock buff size: 50000000 bytes.\n",
      "Actual sock buff size: 212992 bytes.\n",
      "See the transport application notes on buffer resizing.\n",
      "Please run: sudo sysctl -w net.core.rmem_max=50000000\n",
      "[WARNING] [UDP] The send buffer could not be resized sufficiently.\n",
      "Target sock buff size: 2500000 bytes.\n",
      "Actual sock buff size: 212992 bytes.\n",
      "See the transport application notes on buffer resizing.\n",
      "Please run: sudo sysctl -w net.core.wmem_max=2500000\n",
      "[WARNING] [UDP] The current recv_buff_size of 50000000 is less than the minimum recommended size of 307200 and may result in dropped packets on some NICs\n",
      "[WARNING] [UDP] The current send_buff_size of 2500000 is less than the minimum recommended size of 307200 and may result in dropped packets on some NICs\n",
      "[WARNING] [UDP] The recv buffer could not be resized sufficiently.\n",
      "Target sock buff size: 2500000 bytes.\n",
      "Actual sock buff size: 212992 bytes.\n",
      "See the transport application notes on buffer resizing.\n",
      "Please run: sudo sysctl -w net.core.rmem_max=2500000\n",
      "[WARNING] [UDP] The send buffer could not be resized sufficiently.\n",
      "Target sock buff size: 1048576 bytes.\n",
      "Actual sock buff size: 212992 bytes.\n",
      "See the transport application notes on buffer resizing.\n",
      "Please run: sudo sysctl -w net.core.wmem_max=1048576\n",
      "[WARNING] [UDP] The current recv_buff_size of 2500000 is less than the minimum recommended size of 307200 and may result in dropped packets on some NICs\n",
      "[WARNING] [UDP] The current send_buff_size of 1048576 is less than the minimum recommended size of 307200 and may result in dropped packets on some NICs\n",
      "[WARNING] [UDP] The recv buffer could not be resized sufficiently.\n",
      "Target sock buff size: 2500000 bytes.\n",
      "Actual sock buff size: 212992 bytes.\n",
      "See the transport application notes on buffer resizing.\n",
      "Please run: sudo sysctl -w net.core.rmem_max=2500000\n",
      "[WARNING] [UDP] The send buffer could not be resized sufficiently.\n",
      "Target sock buff size: 2500000 bytes.\n",
      "Actual sock buff size: 212992 bytes.\n",
      "See the transport application notes on buffer resizing.\n",
      "Please run: sudo sysctl -w net.core.wmem_max=2500000\n",
      "[WARNING] [UDP] The current recv_buff_size of 2500000 is less than the minimum recommended size of 307200 and may result in dropped packets on some NICs\n",
      "[WARNING] [UDP] The current send_buff_size of 2500000 is less than the minimum recommended size of 307200 and may result in dropped packets on some NICs\n",
      "[WARNING] [UHD] Unable to set the thread priority. Performance may be negatively affected.\n",
      "Please see the general application notes in the manual for instructions.\n",
      "EnvironmentError: OSError: error in pthread_setschedparam\n",
      "[WARNING] [MULTI_USRP] Setting IQ imbalance compensation is not possible on this device.\n"
     ]
    },
    {
     "name": "stdout",
     "output_type": "stream",
     "text": [
      "Frame: 3  SNR:  30.25  BER: 0.0000\n",
      "Frame: 4  SNR:  30.39  BER: 0.0000\n",
      "Frame: 0  SNR:  30.31  BER: 0.0000\n",
      "Frame: 1  SNR:  30.16  BER: 0.0000\n",
      "Frame: 2  SNR:  29.68  BER: 0.0000\n",
      "All frames captured\n"
     ]
    }
   ],
   "source": [
    "eng.frame_capture_1_2(nargout=0)\n",
    "for i in range(N_captures):\n",
    "    frame_capture = sio.loadmat(\"frame_capture.mat\")\n",
    "    frame_capture = frame_capture[\"frame_capture\"]\n",
    "    if np.count_nonzero(frame_capture) == len(frame_capture):\n",
    "        break\n",
    "    os.system(\"python3 flow_graph_RX.py\")\n",
    "    eng.TX_Feedback_Decoder1(nargout=0)"
   ]
  },
  {
   "cell_type": "markdown",
   "metadata": {},
   "source": [
    "## Transmission 2"
   ]
  },
  {
   "cell_type": "code",
   "execution_count": 5,
   "metadata": {},
   "outputs": [
    {
     "name": "stderr",
     "output_type": "stream",
     "text": [
      "[INFO] [UHD] linux; GNU C++ version 9.3.0; Boost_107100; UHD_4.2.0.git-32-ga7486cbf\n",
      "[INFO] [USRP2] Opening a USRP2/N-Series device...\n",
      "[INFO] [USRP2] Current recv frame size: 1472 bytes\n",
      "[INFO] [USRP2] Current send frame size: 1472 bytes\n",
      "[WARNING] [UDP] The recv buffer could not be resized sufficiently.\n",
      "Target sock buff size: 50000000 bytes.\n",
      "Actual sock buff size: 212992 bytes.\n",
      "See the transport application notes on buffer resizing.\n",
      "Please run: sudo sysctl -w net.core.rmem_max=50000000\n",
      "[WARNING] [UDP] The send buffer could not be resized sufficiently.\n",
      "Target sock buff size: 2500000 bytes.\n",
      "Actual sock buff size: 212992 bytes.\n",
      "See the transport application notes on buffer resizing.\n",
      "Please run: sudo sysctl -w net.core.wmem_max=2500000\n",
      "[WARNING] [UDP] The current recv_buff_size of 50000000 is less than the minimum recommended size of 307200 and may result in dropped packets on some NICs\n",
      "[WARNING] [UDP] The current send_buff_size of 2500000 is less than the minimum recommended size of 307200 and may result in dropped packets on some NICs\n",
      "[WARNING] [UDP] The recv buffer could not be resized sufficiently.\n",
      "Target sock buff size: 50000000 bytes.\n",
      "Actual sock buff size: 212992 bytes.\n",
      "See the transport application notes on buffer resizing.\n",
      "Please run: sudo sysctl -w net.core.rmem_max=50000000\n",
      "[WARNING] [UDP] The send buffer could not be resized sufficiently.\n",
      "Target sock buff size: 2500000 bytes.\n",
      "Actual sock buff size: 212992 bytes.\n",
      "See the transport application notes on buffer resizing.\n",
      "Please run: sudo sysctl -w net.core.wmem_max=2500000\n",
      "[WARNING] [UDP] The current recv_buff_size of 50000000 is less than the minimum recommended size of 307200 and may result in dropped packets on some NICs\n",
      "[WARNING] [UDP] The current send_buff_size of 2500000 is less than the minimum recommended size of 307200 and may result in dropped packets on some NICs\n",
      "[WARNING] [UDP] The recv buffer could not be resized sufficiently.\n",
      "Target sock buff size: 2500000 bytes.\n",
      "Actual sock buff size: 212992 bytes.\n",
      "See the transport application notes on buffer resizing.\n",
      "Please run: sudo sysctl -w net.core.rmem_max=2500000\n",
      "[WARNING] [UDP] The send buffer could not be resized sufficiently.\n",
      "Target sock buff size: 1048576 bytes.\n",
      "Actual sock buff size: 212992 bytes.\n",
      "See the transport application notes on buffer resizing.\n",
      "Please run: sudo sysctl -w net.core.wmem_max=1048576\n",
      "[WARNING] [UDP] The current recv_buff_size of 2500000 is less than the minimum recommended size of 307200 and may result in dropped packets on some NICs\n",
      "[WARNING] [UDP] The current send_buff_size of 1048576 is less than the minimum recommended size of 307200 and may result in dropped packets on some NICs\n",
      "[WARNING] [UDP] The recv buffer could not be resized sufficiently.\n",
      "Target sock buff size: 2500000 bytes.\n",
      "Actual sock buff size: 212992 bytes.\n",
      "See the transport application notes on buffer resizing.\n",
      "Please run: sudo sysctl -w net.core.rmem_max=2500000\n",
      "[WARNING] [UDP] The send buffer could not be resized sufficiently.\n",
      "Target sock buff size: 2500000 bytes.\n",
      "Actual sock buff size: 212992 bytes.\n",
      "See the transport application notes on buffer resizing.\n",
      "Please run: sudo sysctl -w net.core.wmem_max=2500000\n",
      "[WARNING] [UDP] The current recv_buff_size of 2500000 is less than the minimum recommended size of 307200 and may result in dropped packets on some NICs\n",
      "[WARNING] [UDP] The current send_buff_size of 2500000 is less than the minimum recommended size of 307200 and may result in dropped packets on some NICs\n",
      "[WARNING] [UHD] Unable to set the thread priority. Performance may be negatively affected.\n",
      "Please see the general application notes in the manual for instructions.\n",
      "EnvironmentError: OSError: error in pthread_setschedparam\n"
     ]
    },
    {
     "data": {
      "text/plain": [
       "2"
      ]
     },
     "execution_count": 5,
     "metadata": {},
     "output_type": "execute_result"
    }
   ],
   "source": [
    "eng.TX_Feedback_Encoder2(nargout=0)\n",
    "os.system(\"python3 flow_graph_TX.py\")"
   ]
  },
  {
   "cell_type": "markdown",
   "metadata": {},
   "source": [
    "## Reception 2"
   ]
  },
  {
   "cell_type": "code",
   "execution_count": 6,
   "metadata": {},
   "outputs": [
    {
     "name": "stderr",
     "output_type": "stream",
     "text": [
      "[INFO] [UHD] linux; GNU C++ version 9.3.0; Boost_107100; UHD_4.2.0.git-32-ga7486cbf\n",
      "[INFO] [USRP2] Opening a USRP2/N-Series device...\n",
      "[INFO] [USRP2] Current recv frame size: 1472 bytes\n",
      "[INFO] [USRP2] Current send frame size: 1472 bytes\n",
      "[WARNING] [UDP] The recv buffer could not be resized sufficiently.\n",
      "Target sock buff size: 50000000 bytes.\n",
      "Actual sock buff size: 212992 bytes.\n",
      "See the transport application notes on buffer resizing.\n",
      "Please run: sudo sysctl -w net.core.rmem_max=50000000\n",
      "[WARNING] [UDP] The send buffer could not be resized sufficiently.\n",
      "Target sock buff size: 2500000 bytes.\n",
      "Actual sock buff size: 212992 bytes.\n",
      "See the transport application notes on buffer resizing.\n",
      "Please run: sudo sysctl -w net.core.wmem_max=2500000\n",
      "[WARNING] [UDP] The current recv_buff_size of 50000000 is less than the minimum recommended size of 307200 and may result in dropped packets on some NICs\n",
      "[WARNING] [UDP] The current send_buff_size of 2500000 is less than the minimum recommended size of 307200 and may result in dropped packets on some NICs\n",
      "[WARNING] [UDP] The recv buffer could not be resized sufficiently.\n",
      "Target sock buff size: 50000000 bytes.\n",
      "Actual sock buff size: 212992 bytes.\n",
      "See the transport application notes on buffer resizing.\n",
      "Please run: sudo sysctl -w net.core.rmem_max=50000000\n",
      "[WARNING] [UDP] The send buffer could not be resized sufficiently.\n",
      "Target sock buff size: 2500000 bytes.\n",
      "Actual sock buff size: 212992 bytes.\n",
      "See the transport application notes on buffer resizing.\n",
      "Please run: sudo sysctl -w net.core.wmem_max=2500000\n",
      "[WARNING] [UDP] The current recv_buff_size of 50000000 is less than the minimum recommended size of 307200 and may result in dropped packets on some NICs\n",
      "[WARNING] [UDP] The current send_buff_size of 2500000 is less than the minimum recommended size of 307200 and may result in dropped packets on some NICs\n",
      "[WARNING] [UDP] The recv buffer could not be resized sufficiently.\n",
      "Target sock buff size: 2500000 bytes.\n",
      "Actual sock buff size: 212992 bytes.\n",
      "See the transport application notes on buffer resizing.\n",
      "Please run: sudo sysctl -w net.core.rmem_max=2500000\n",
      "[WARNING] [UDP] The send buffer could not be resized sufficiently.\n",
      "Target sock buff size: 1048576 bytes.\n",
      "Actual sock buff size: 212992 bytes.\n",
      "See the transport application notes on buffer resizing.\n",
      "Please run: sudo sysctl -w net.core.wmem_max=1048576\n",
      "[WARNING] [UDP] The current recv_buff_size of 2500000 is less than the minimum recommended size of 307200 and may result in dropped packets on some NICs\n",
      "[WARNING] [UDP] The current send_buff_size of 1048576 is less than the minimum recommended size of 307200 and may result in dropped packets on some NICs\n",
      "[WARNING] [UDP] The recv buffer could not be resized sufficiently.\n",
      "Target sock buff size: 2500000 bytes.\n",
      "Actual sock buff size: 212992 bytes.\n",
      "See the transport application notes on buffer resizing.\n",
      "Please run: sudo sysctl -w net.core.rmem_max=2500000\n",
      "[WARNING] [UDP] The send buffer could not be resized sufficiently.\n",
      "Target sock buff size: 2500000 bytes.\n",
      "Actual sock buff size: 212992 bytes.\n",
      "See the transport application notes on buffer resizing.\n",
      "Please run: sudo sysctl -w net.core.wmem_max=2500000\n",
      "[WARNING] [UDP] The current recv_buff_size of 2500000 is less than the minimum recommended size of 307200 and may result in dropped packets on some NICs\n",
      "[WARNING] [UDP] The current send_buff_size of 2500000 is less than the minimum recommended size of 307200 and may result in dropped packets on some NICs\n",
      "[WARNING] [UHD] Unable to set the thread priority. Performance may be negatively affected.\n",
      "Please see the general application notes in the manual for instructions.\n",
      "EnvironmentError: OSError: error in pthread_setschedparam\n",
      "[WARNING] [MULTI_USRP] Setting IQ imbalance compensation is not possible on this device.\n"
     ]
    },
    {
     "name": "stdout",
     "output_type": "stream",
     "text": [
      "Frame: 1  SNR:  23.85  BER: 0.1701\n",
      "Frame: 2  SNR:  29.18  BER: 0.2613\n",
      "Frame: 3  SNR:  29.05  BER: 0.2801\n",
      "Frame: 4  SNR:  29.70  BER: 0.2278\n",
      "Frame: 0  SNR:  29.70  BER: 0.0088\n",
      "All frames captured\n"
     ]
    }
   ],
   "source": [
    "eng.frame_capture_1_3(nargout=0)\n",
    "for i in range(N_captures):\n",
    "    frame_capture = sio.loadmat(\"frame_capture.mat\")\n",
    "    frame_capture = frame_capture[\"frame_capture\"]\n",
    "    if np.count_nonzero(frame_capture) == len(frame_capture):\n",
    "        break\n",
    "    os.system(\"python3 flow_graph_RX.py\")\n",
    "    eng.TX_Feedback_Decoder2(nargout=0)"
   ]
  },
  {
   "cell_type": "markdown",
   "metadata": {},
   "source": [
    "## Transmission 3"
   ]
  },
  {
   "cell_type": "code",
   "execution_count": 7,
   "metadata": {},
   "outputs": [
    {
     "name": "stderr",
     "output_type": "stream",
     "text": [
      "Index in position 2 exceeds array bounds (must not exceed 1).\n",
      "\n",
      "Error in TX_Feedback_Encoder3 (line 27)\n",
      "        mod_symbols = ActiveEncoder(Bit_Input( :, n_frame), Z1_Input(:, n_frame), Z2_Input(:, n_frame), 3);\n",
      "\n"
     ]
    },
    {
     "ename": "MatlabExecutionError",
     "evalue": "\n  File /home/rajesh/ICLRWork/WirelessDL/Python/Automation/TX_Feedback_Encoder3.m, line 27, in TX_Feedback_Encoder3\nIndex in position 2 exceeds array bounds (must not exceed 1).\n",
     "output_type": "error",
     "traceback": [
      "\u001b[0;31m---------------------------------------------------------------------------\u001b[0m",
      "\u001b[0;31mMatlabExecutionError\u001b[0m                      Traceback (most recent call last)",
      "\u001b[0;32m/tmp/ipykernel_4909/329743285.py\u001b[0m in \u001b[0;36m<module>\u001b[0;34m\u001b[0m\n\u001b[0;32m----> 1\u001b[0;31m \u001b[0meng\u001b[0m\u001b[0;34m.\u001b[0m\u001b[0mTX_Feedback_Encoder3\u001b[0m\u001b[0;34m(\u001b[0m\u001b[0mnargout\u001b[0m\u001b[0;34m=\u001b[0m\u001b[0;36m0\u001b[0m\u001b[0;34m)\u001b[0m\u001b[0;34m\u001b[0m\u001b[0;34m\u001b[0m\u001b[0m\n\u001b[0m\u001b[1;32m      2\u001b[0m \u001b[0mos\u001b[0m\u001b[0;34m.\u001b[0m\u001b[0msystem\u001b[0m\u001b[0;34m(\u001b[0m\u001b[0;34m\"python3 flow_graph_TX.py\"\u001b[0m\u001b[0;34m)\u001b[0m\u001b[0;34m\u001b[0m\u001b[0;34m\u001b[0m\u001b[0m\n",
      "\u001b[0;32m/usr/local/lib/python3.8/dist-packages/matlab/engine/matlabengine.py\u001b[0m in \u001b[0;36m__call__\u001b[0;34m(self, *args, **kwargs)\u001b[0m\n\u001b[1;32m     68\u001b[0m             \u001b[0;32mreturn\u001b[0m \u001b[0mFutureResult\u001b[0m\u001b[0;34m(\u001b[0m\u001b[0mself\u001b[0m\u001b[0;34m.\u001b[0m\u001b[0m_engine\u001b[0m\u001b[0;34m(\u001b[0m\u001b[0;34m)\u001b[0m\u001b[0;34m,\u001b[0m \u001b[0mfuture\u001b[0m\u001b[0;34m,\u001b[0m \u001b[0mnargs\u001b[0m\u001b[0;34m,\u001b[0m \u001b[0m_stdout\u001b[0m\u001b[0;34m,\u001b[0m \u001b[0m_stderr\u001b[0m\u001b[0;34m,\u001b[0m \u001b[0mfeval\u001b[0m\u001b[0;34m=\u001b[0m\u001b[0;32mTrue\u001b[0m\u001b[0;34m)\u001b[0m\u001b[0;34m\u001b[0m\u001b[0;34m\u001b[0m\u001b[0m\n\u001b[1;32m     69\u001b[0m         \u001b[0;32melse\u001b[0m\u001b[0;34m:\u001b[0m\u001b[0;34m\u001b[0m\u001b[0;34m\u001b[0m\u001b[0m\n\u001b[0;32m---> 70\u001b[0;31m             return FutureResult(self._engine(), future, nargs, _stdout,\n\u001b[0m\u001b[1;32m     71\u001b[0m                                 _stderr, feval=True).result()\n\u001b[1;32m     72\u001b[0m \u001b[0;34m\u001b[0m\u001b[0m\n",
      "\u001b[0;32m/usr/local/lib/python3.8/dist-packages/matlab/engine/futureresult.py\u001b[0m in \u001b[0;36mresult\u001b[0;34m(self, timeout)\u001b[0m\n\u001b[1;32m     65\u001b[0m                 \u001b[0;32mraise\u001b[0m \u001b[0mTypeError\u001b[0m\u001b[0;34m(\u001b[0m\u001b[0mpythonengine\u001b[0m\u001b[0;34m.\u001b[0m\u001b[0mgetMessage\u001b[0m\u001b[0;34m(\u001b[0m\u001b[0;34m'TimeoutCannotBeNegative'\u001b[0m\u001b[0;34m)\u001b[0m\u001b[0;34m)\u001b[0m\u001b[0;34m\u001b[0m\u001b[0;34m\u001b[0m\u001b[0m\n\u001b[1;32m     66\u001b[0m \u001b[0;34m\u001b[0m\u001b[0m\n\u001b[0;32m---> 67\u001b[0;31m         \u001b[0;32mreturn\u001b[0m \u001b[0mself\u001b[0m\u001b[0;34m.\u001b[0m\u001b[0m__future\u001b[0m\u001b[0;34m.\u001b[0m\u001b[0mresult\u001b[0m\u001b[0;34m(\u001b[0m\u001b[0mtimeout\u001b[0m\u001b[0;34m)\u001b[0m\u001b[0;34m\u001b[0m\u001b[0;34m\u001b[0m\u001b[0m\n\u001b[0m\u001b[1;32m     68\u001b[0m \u001b[0;34m\u001b[0m\u001b[0m\n\u001b[1;32m     69\u001b[0m     \u001b[0;32mdef\u001b[0m \u001b[0mcancel\u001b[0m\u001b[0;34m(\u001b[0m\u001b[0mself\u001b[0m\u001b[0;34m)\u001b[0m\u001b[0;34m:\u001b[0m\u001b[0;34m\u001b[0m\u001b[0;34m\u001b[0m\u001b[0m\n",
      "\u001b[0;32m/usr/local/lib/python3.8/dist-packages/matlab/engine/fevalfuture.py\u001b[0m in \u001b[0;36mresult\u001b[0;34m(self, timeout)\u001b[0m\n\u001b[1;32m     80\u001b[0m                 \u001b[0;32mraise\u001b[0m \u001b[0mTimeoutError\u001b[0m\u001b[0;34m(\u001b[0m\u001b[0mpythonengine\u001b[0m\u001b[0;34m.\u001b[0m\u001b[0mgetMessage\u001b[0m\u001b[0;34m(\u001b[0m\u001b[0;34m'MatlabFunctionTimeout'\u001b[0m\u001b[0;34m)\u001b[0m\u001b[0;34m)\u001b[0m\u001b[0;34m\u001b[0m\u001b[0;34m\u001b[0m\u001b[0m\n\u001b[1;32m     81\u001b[0m \u001b[0;34m\u001b[0m\u001b[0m\n\u001b[0;32m---> 82\u001b[0;31m             \u001b[0mself\u001b[0m\u001b[0;34m.\u001b[0m\u001b[0m_result\u001b[0m \u001b[0;34m=\u001b[0m \u001b[0mpythonengine\u001b[0m\u001b[0;34m.\u001b[0m\u001b[0mgetFEvalResult\u001b[0m\u001b[0;34m(\u001b[0m\u001b[0mself\u001b[0m\u001b[0;34m.\u001b[0m\u001b[0m_future\u001b[0m\u001b[0;34m,\u001b[0m\u001b[0mself\u001b[0m\u001b[0;34m.\u001b[0m\u001b[0m_nargout\u001b[0m\u001b[0;34m,\u001b[0m \u001b[0;32mNone\u001b[0m\u001b[0;34m,\u001b[0m \u001b[0mout\u001b[0m\u001b[0;34m=\u001b[0m\u001b[0mself\u001b[0m\u001b[0;34m.\u001b[0m\u001b[0m_out\u001b[0m\u001b[0;34m,\u001b[0m \u001b[0merr\u001b[0m\u001b[0;34m=\u001b[0m\u001b[0mself\u001b[0m\u001b[0;34m.\u001b[0m\u001b[0m_err\u001b[0m\u001b[0;34m)\u001b[0m\u001b[0;34m\u001b[0m\u001b[0;34m\u001b[0m\u001b[0m\n\u001b[0m\u001b[1;32m     83\u001b[0m             \u001b[0mself\u001b[0m\u001b[0;34m.\u001b[0m\u001b[0m_retrieved\u001b[0m \u001b[0;34m=\u001b[0m \u001b[0;32mTrue\u001b[0m\u001b[0;34m\u001b[0m\u001b[0;34m\u001b[0m\u001b[0m\n\u001b[1;32m     84\u001b[0m             \u001b[0;32mreturn\u001b[0m \u001b[0mself\u001b[0m\u001b[0;34m.\u001b[0m\u001b[0m_result\u001b[0m\u001b[0;34m\u001b[0m\u001b[0;34m\u001b[0m\u001b[0m\n",
      "\u001b[0;31mMatlabExecutionError\u001b[0m: \n  File /home/rajesh/ICLRWork/WirelessDL/Python/Automation/TX_Feedback_Encoder3.m, line 27, in TX_Feedback_Encoder3\nIndex in position 2 exceeds array bounds (must not exceed 1).\n"
     ]
    }
   ],
   "source": [
    "eng.TX_Feedback_Encoder3(nargout=0)\n",
    "os.system(\"python3 flow_graph_TX.py\")"
   ]
  }
 ],
 "metadata": {
  "interpreter": {
   "hash": "916dbcbb3f70747c44a77c7bcd40155683ae19c65e1c03b4aa3499c5328201f1"
  },
  "kernelspec": {
   "display_name": "Python 3.8.10 64-bit",
   "name": "python3"
  },
  "language_info": {
   "codemirror_mode": {
    "name": "ipython",
    "version": 3
   },
   "file_extension": ".py",
   "mimetype": "text/x-python",
   "name": "python",
   "nbconvert_exporter": "python",
   "pygments_lexer": "ipython3",
   "version": "3.8.10"
  },
  "orig_nbformat": 4
 },
 "nbformat": 4,
 "nbformat_minor": 2
}
