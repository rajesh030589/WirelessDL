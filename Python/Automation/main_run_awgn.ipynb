{
 "cells": [
  {
   "cell_type": "code",
   "execution_count": 1,
   "metadata": {},
   "outputs": [],
   "source": [
    "import numpy as np\n",
    "import matlab.engine\n",
    "import os\n",
    "import scipy.io as sio\n",
    "import time\n"
   ]
  },
  {
   "cell_type": "code",
   "execution_count": 2,
   "metadata": {},
   "outputs": [
    {
     "name": "stdout",
     "output_type": "stream",
     "text": [
      "TX -> RX 1\n",
      "Frame: 3  SNR:  29.92  BER: 0.0000\n",
      "Frame: 4  SNR:  29.92  BER: 0.0000\n",
      "Frame: 5  SNR:  29.92  BER: 0.0000\n",
      "Frame: 6  SNR:  29.92  BER: 0.0000\n",
      "Frame: 7  SNR:  29.92  BER: 0.0000\n",
      "Frame: 8  SNR:  29.93  BER: 0.0000\n",
      "Frame: 9  SNR:  29.92  BER: 0.0000\n",
      "Frame: 0  SNR:  29.93  BER: 0.0000\n",
      "Frame: 1  SNR:  29.92  BER: 0.0000\n",
      "Frame: 2  SNR:  29.92  BER: 0.0000\n",
      "All frames captured\n"
     ]
    }
   ],
   "source": [
    "\n",
    "eng = matlab.engine.start_matlab()\n",
    "N_captures = 3\n",
    "\n",
    "# TX Transmission 1\n",
    "print(\"TX -> RX 1\")\n",
    "eng.TX_Feedback_Encoder1(nargout=0)\n",
    "\n",
    "\n",
    "# RX Reception 1\n",
    "eng.frame_capture_2_1(nargout=0)\n",
    "for i in range(N_captures):\n",
    "    eng.awgn_channel(\"complex_noise\", nargout=0)\n",
    "    frame_capture = sio.loadmat(\"frame_capture.mat\")\n",
    "    frame_capture = frame_capture[\"frame_capture\"]\n",
    "    if np.count_nonzero(frame_capture) == len(frame_capture):\n",
    "        break\n",
    "    eng.RX_Feedback_Decoder1(nargout=0)\n",
    "\n"
   ]
  },
  {
   "cell_type": "code",
   "execution_count": 7,
   "metadata": {},
   "outputs": [
    {
     "name": "stdout",
     "output_type": "stream",
     "text": [
      "RX -> TX 1\n",
      "Frame: 0  SNR:  29.92\n",
      "All frames captured\n"
     ]
    }
   ],
   "source": [
    "\n",
    "# RX Transmission 1\n",
    "print(\"RX -> TX 1\")\n",
    "eng.RX_Feedback_Encoder1(nargout=0)\n",
    "\n",
    "# TX Reception 1\n",
    "eng.frame_capture_1_2(nargout=0)\n",
    "for i in range(N_captures):\n",
    "    eng.awgn_channel(\"complex_noise\", nargout=0)\n",
    "    frame_capture = sio.loadmat(\"frame_capture.mat\")\n",
    "    frame_capture = frame_capture[\"frame_capture\"]\n",
    "    if np.count_nonzero(frame_capture) == len(frame_capture):\n",
    "        break\n",
    "    eng.TX_Feedback_Decoder1(nargout=0)\n",
    "\n"
   ]
  },
  {
   "cell_type": "code",
   "execution_count": 8,
   "metadata": {},
   "outputs": [
    {
     "name": "stdout",
     "output_type": "stream",
     "text": [
      "TX -> RX 2\n",
      "Frame: 0  SNR:  29.93\n",
      "All frames captured\n"
     ]
    }
   ],
   "source": [
    "\n",
    "# TX Transmission 2\n",
    "print(\"TX -> RX 2\")\n",
    "eng.TX_Feedback_Encoder2(nargout=0)\n",
    "\n",
    "\n",
    "# RX Reception 2\n",
    "eng.frame_capture_2_2(nargout=0)\n",
    "for i in range(N_captures):\n",
    "    eng.awgn_channel(\"complex_noise\", nargout=0)\n",
    "    frame_capture = sio.loadmat(\"frame_capture.mat\")\n",
    "    frame_capture = frame_capture[\"frame_capture\"]\n",
    "    if np.count_nonzero(frame_capture) == len(frame_capture):\n",
    "        break\n",
    "    eng.RX_Feedback_Decoder2(nargout=0)\n",
    "\n",
    "\n"
   ]
  },
  {
   "cell_type": "code",
   "execution_count": 9,
   "metadata": {},
   "outputs": [
    {
     "name": "stdout",
     "output_type": "stream",
     "text": [
      "RX -> TX 2\n",
      "Frame: 0  SNR:  29.93\n",
      "All frames captured\n"
     ]
    }
   ],
   "source": [
    "# RX Transmission 2\n",
    "print(\"RX -> TX 2\")\n",
    "eng.RX_Feedback_Encoder2(nargout=0)\n",
    "\n",
    "# TX Reception 2\n",
    "eng.frame_capture_1_3(nargout=0)\n",
    "for i in range(N_captures):\n",
    "    eng.awgn_channel(\"complex_noise\", nargout=0)\n",
    "    frame_capture = sio.loadmat(\"frame_capture.mat\")\n",
    "    frame_capture = frame_capture[\"frame_capture\"]\n",
    "    if np.count_nonzero(frame_capture) == len(frame_capture):\n",
    "        break\n",
    "    eng.TX_Feedback_Decoder2(nargout=0)\n",
    "\n"
   ]
  },
  {
   "cell_type": "code",
   "execution_count": 10,
   "metadata": {},
   "outputs": [
    {
     "name": "stdout",
     "output_type": "stream",
     "text": [
      "TX -> RX 3\n",
      "Frame: 0  SNR:  29.93\n",
      "All frames captured\n",
      "Final Decoding\n",
      "Frame: 1  BER: 1.0000\n"
     ]
    }
   ],
   "source": [
    "# TX Transmission 3\n",
    "print(\"TX -> RX 3\")\n",
    "eng.TX_Feedback_Encoder3(nargout=0)\n",
    "\n",
    "# RX Reception 3\n",
    "eng.frame_capture_2_3(nargout=0)\n",
    "for i in range(N_captures):\n",
    "    eng.awgn_channel(\"complex_noise\", nargout=0)\n",
    "    frame_capture = sio.loadmat(\"frame_capture.mat\")\n",
    "    frame_capture = frame_capture[\"frame_capture\"]\n",
    "    if np.count_nonzero(frame_capture) == len(frame_capture):\n",
    "        break\n",
    "    eng.RX_Feedback_Decoder3(nargout=0)\n",
    "\n",
    "\n",
    "print(\"Final Decoding\")\n",
    "# RX Final Decoder\n",
    "eng.RX_Feedback_Encoder3(nargout=0)"
   ]
  }
 ],
 "metadata": {
  "interpreter": {
   "hash": "31f2aee4e71d21fbe5cf8b01ff0e069b9275f58929596ceb00d14d90e3e16cd6"
  },
  "kernelspec": {
   "display_name": "Python 3.8.10 64-bit",
   "name": "python3"
  },
  "language_info": {
   "codemirror_mode": {
    "name": "ipython",
    "version": 3
   },
   "file_extension": ".py",
   "mimetype": "text/x-python",
   "name": "python",
   "nbconvert_exporter": "python",
   "pygments_lexer": "ipython3",
   "version": "3.8.10"
  },
  "orig_nbformat": 4
 },
 "nbformat": 4,
 "nbformat_minor": 2
}
