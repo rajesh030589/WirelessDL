{
 "cells": [
  {
   "cell_type": "code",
   "execution_count": 60,
   "metadata": {},
   "outputs": [],
   "source": [
    "import numpy as np\n",
    "import matlab.engine\n",
    "import os\n",
    "import signal\n",
    "import time\n",
    "import scipy.io as sio\n",
    "import time\n",
    "import subprocess\n",
    "import matplotlib.pyplot as plt"
   ]
  },
  {
   "cell_type": "code",
   "execution_count": 61,
   "metadata": {},
   "outputs": [],
   "source": [
    "forward_tx_gain = 5\n",
    "forward_rx_gain = 12\n",
    "backward_tx_gain = 10\n",
    "backward_rx_gain = 15"
   ]
  },
  {
   "cell_type": "code",
   "execution_count": 62,
   "metadata": {},
   "outputs": [],
   "source": [
    "\n",
    "string1 = 'python3 TX_Feedback.py -tx_gain ' + str(forward_tx_gain)\n",
    "string2 = 'python3 RX_Feedback.py -rx_gain ' + str(forward_rx_gain)"
   ]
  },
  {
   "cell_type": "code",
   "execution_count": 63,
   "metadata": {},
   "outputs": [
    {
     "name": "stdout",
     "output_type": "stream",
     "text": [
      "TX Noise generated\n",
      "TX Transmission starts\n"
     ]
    },
    {
     "data": {
      "text/plain": [
       "0"
      ]
     },
     "execution_count": 63,
     "metadata": {},
     "output_type": "execute_result"
    }
   ],
   "source": [
    "# Message generation\n",
    "subprocess.call(string1 + ' -dev_type encoder_noise', shell= True)"
   ]
  },
  {
   "cell_type": "code",
   "execution_count": 64,
   "metadata": {},
   "outputs": [
    {
     "name": "stdout",
     "output_type": "stream",
     "text": [
      "The file does not exist\n",
      "RX Reception 31 starts\n",
      "Capture : 1 ...\n",
      "Capture done\n",
      "Frame: 0  SNR:  24.58\n",
      "Frame: 0  SNR:  24.23\n",
      "Frame: 0  SNR:  23.42\n",
      "Frame: 0  SNR:  23.71\n",
      "Frame: 0  SNR:  23.51\n",
      "Frame: 0  SNR:  22.80\n",
      "Frame: 0  SNR:  23.41\n",
      "Frame: 0  SNR:  21.86\n",
      "Frame: 0  SNR:  21.86\n",
      "Frame: 0  SNR:  21.15\n",
      "Frame: 0  SNR:  21.40\n",
      "Frame: 0  SNR:  28.06\n",
      "Capture : 2 ...\n",
      "Capture done\n",
      "Frame: 0  SNR:  28.68\n",
      "Frame: 0  SNR:  29.07\n",
      "Frame: 0  SNR:  29.22\n",
      "Frame: 0  SNR:  28.60\n",
      "Frame: 0  SNR:  27.90\n",
      "Frame: 0  SNR:  28.61\n",
      "Frame: 0  SNR:  28.39\n",
      "Frame: 0  SNR:  29.52\n",
      "Frame: 0  SNR:  28.62\n",
      "Frame: 0  SNR:  28.88\n",
      "Frame: 0  SNR:  28.27\n",
      "Capture : 3 ...\n",
      "Capture done\n",
      "Frame: 0  SNR:  21.44\n",
      "Frame: 0  SNR:  28.02\n",
      "Frame: 0  SNR:  21.00\n",
      "Frame: 0  SNR:  20.26\n",
      "Frame: 0  SNR:  28.49\n",
      "Frame: 0  SNR:  28.15\n",
      "Frame: 0  SNR:  28.34\n",
      "Frame: 0  SNR:  28.80\n",
      "Frame: 0  SNR:  28.31\n",
      "Frame: 0  SNR:  28.43\n",
      "Capture : 4 ...\n",
      "Capture done\n",
      "Frame: 0  SNR:  25.53\n",
      "Frame: 0  SNR:  25.84\n",
      "Frame: 0  SNR:  25.92\n",
      "Frame: 0  SNR:  25.24\n",
      "Frame: 0  SNR:  25.22\n",
      "Frame: 0  SNR:  25.05\n",
      "Frame: 0  SNR:  24.93\n",
      "Frame: 0  SNR:  25.14\n",
      "Frame: 0  SNR:  25.11\n",
      "Frame: 0  SNR:  23.86\n",
      "Frame: 0  SNR:  24.01\n",
      "Frame: 0  SNR:  23.72\n"
     ]
    },
    {
     "data": {
      "text/plain": [
       "0"
      ]
     },
     "execution_count": 64,
     "metadata": {},
     "output_type": "execute_result"
    }
   ],
   "source": [
    "# Receiver receives first message\n",
    "\n",
    "subprocess.call(string2 + ' -dev_type decoder_noise -n_captures 4', shell= True)\n",
    "    "
   ]
  },
  {
   "cell_type": "code",
   "execution_count": 65,
   "metadata": {},
   "outputs": [
    {
     "name": "stdout",
     "output_type": "stream",
     "text": [
      "\n",
      "Process Successfully terminated\n"
     ]
    },
    {
     "data": {
      "text/plain": [
       "0"
      ]
     },
     "execution_count": 65,
     "metadata": {},
     "output_type": "execute_result"
    }
   ],
   "source": [
    "subprocess.call('python3 /home/rajesh/ActiveFeedback/WirelessDL/Python/Automation/flowgraph_process_kill.py', shell= True)"
   ]
  },
  {
   "cell_type": "code",
   "execution_count": null,
   "metadata": {},
   "outputs": [],
   "source": [
    "\n"
   ]
  },
  {
   "cell_type": "code",
   "execution_count": null,
   "metadata": {},
   "outputs": [],
   "source": [
    "\n",
    "\n"
   ]
  }
 ],
 "metadata": {
  "interpreter": {
   "hash": "31f2aee4e71d21fbe5cf8b01ff0e069b9275f58929596ceb00d14d90e3e16cd6"
  },
  "kernelspec": {
   "display_name": "Python 3.8.10 64-bit",
   "name": "python3"
  },
  "language_info": {
   "codemirror_mode": {
    "name": "ipython",
    "version": 3
   },
   "file_extension": ".py",
   "mimetype": "text/x-python",
   "name": "python",
   "nbconvert_exporter": "python",
   "pygments_lexer": "ipython3",
   "version": "3.8.10"
  },
  "orig_nbformat": 4
 },
 "nbformat": 4,
 "nbformat_minor": 2
}
