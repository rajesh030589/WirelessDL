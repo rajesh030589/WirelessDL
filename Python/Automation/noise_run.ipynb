{
 "cells": [
  {
   "cell_type": "code",
   "execution_count": 13,
   "metadata": {},
   "outputs": [],
   "source": [
    "import numpy as np\n",
    "import matlab.engine\n",
    "import os\n",
    "import signal\n",
    "import time\n",
    "import scipy.io as sio\n",
    "import time\n",
    "import subprocess\n",
    "import matplotlib.pyplot as plt"
   ]
  },
  {
   "cell_type": "code",
   "execution_count": 14,
   "metadata": {},
   "outputs": [],
   "source": [
    "forward_tx_gain = 5\n",
    "forward_rx_gain = 12\n",
    "backward_tx_gain = 10\n",
    "backward_rx_gain = 15"
   ]
  },
  {
   "cell_type": "code",
   "execution_count": 15,
   "metadata": {},
   "outputs": [],
   "source": [
    "\n",
    "string1 = 'python3 TX_Feedback.py -tx_gain ' + str(forward_tx_gain)\n",
    "string2 = 'python3 RX_Feedback.py -rx_gain ' + str(forward_rx_gain)"
   ]
  },
  {
   "cell_type": "code",
   "execution_count": 16,
   "metadata": {},
   "outputs": [
    {
     "name": "stdout",
     "output_type": "stream",
     "text": [
      "TX Noise generated\n",
      "TX Transmission starts\n"
     ]
    },
    {
     "data": {
      "text/plain": [
       "0"
      ]
     },
     "execution_count": 16,
     "metadata": {},
     "output_type": "execute_result"
    }
   ],
   "source": [
    "# Message generation\n",
    "subprocess.call(string1 + ' -dev_type encoder_noise', shell= True)"
   ]
  },
  {
   "cell_type": "code",
   "execution_count": 17,
   "metadata": {},
   "outputs": [
    {
     "name": "stdout",
     "output_type": "stream",
     "text": [
      "RX Reception 31 starts\n",
      "Capture : 1 ...\n",
      "Capture done\n",
      "Frame: 3  SNR:  29.07\n",
      "Frame: 4  SNR:  29.60\n",
      "Frame: 5  SNR:  29.68\n",
      "Frame: 6  SNR:  29.34\n",
      "Frame: 7  SNR:  29.27\n",
      "Frame: 8  SNR:  29.22\n",
      "Frame: 9  SNR:  29.14\n",
      "Frame: 10  SNR:  28.96\n",
      "Frame: 11  SNR:  29.08\n",
      "Frame: 12  SNR:  28.51\n",
      "Frame: 13  SNR:  28.83\n",
      "Frame: 14  SNR:  28.96\n",
      "Frame: 15  SNR:  28.95\n",
      "Frame: 16  SNR:  29.41\n",
      "Frame: 17  SNR:  28.34\n",
      "Frame: 18  SNR:  21.04\n",
      "Frame: 19  SNR:  28.09\n",
      "Frame: 20  SNR:  28.73\n",
      "Frame: 22  SNR:  21.51\n",
      "Frame: 23  SNR:  21.33\n",
      "Frame: 24  SNR:  21.94\n",
      "Frame: 0  SNR:  21.97\n",
      "Frame: 1  SNR:  21.61\n",
      "Frame: 2  SNR:  21.73\n",
      "Frame: 3  SNR:  22.69\n",
      "Frame: 6  SNR:  22.68\n",
      "Frame: 7  SNR:  23.45\n",
      "Frame: 8  SNR:  22.90\n",
      "Frame: 9  SNR:  23.54\n",
      "Frame: 10  SNR:  24.14\n",
      "Frame: 11  SNR:  24.18\n",
      "Frame: 12  SNR:  24.23\n",
      "Frame: 13  SNR:  23.98\n",
      "Frame: 14  SNR:  23.46\n",
      "Capture : 2 ...\n",
      "Capture done\n",
      "Frame: 24  SNR:  25.41\n",
      "Frame: 0  SNR:  25.50\n",
      "Frame: 1  SNR:  25.88\n",
      "Frame: 2  SNR:  25.74\n",
      "Frame: 3  SNR:  25.43\n",
      "Frame: 4  SNR:  26.47\n",
      "Frame: 5  SNR:  25.95\n",
      "Frame: 6  SNR:  26.92\n",
      "Frame: 7  SNR:  26.23\n",
      "Frame: 8  SNR:  26.39\n",
      "Frame: 9  SNR:  26.37\n",
      "Frame: 10  SNR:  26.12\n",
      "Frame: 11  SNR:  26.61\n",
      "Frame: 12  SNR:  26.90\n",
      "Frame: 13  SNR:  27.33\n",
      "Frame: 14  SNR:  27.50\n",
      "Frame: 15  SNR:  27.76\n",
      "Frame: 16  SNR:  27.68\n",
      "Frame: 17  SNR:  27.36\n",
      "Frame: 18  SNR:  27.68\n",
      "Frame: 19  SNR:  28.35\n",
      "Frame: 20  SNR:  27.52\n",
      "Frame: 21  SNR:  27.77\n",
      "Frame: 22  SNR:  28.05\n",
      "Frame: 23  SNR:  28.80\n",
      "Frame: 24  SNR:  27.94\n",
      "Frame: 0  SNR:  27.82\n",
      "Frame: 1  SNR:  28.41\n",
      "Frame: 2  SNR:  28.33\n",
      "Frame: 3  SNR:  29.05\n",
      "Frame: 4  SNR:  28.31\n",
      "Frame: 5  SNR:  28.60\n",
      "Frame: 6  SNR:  28.98\n",
      "Frame: 7  SNR:  28.74\n",
      "Frame: 8  SNR:  28.07\n",
      "Capture : 3 ...\n",
      "Capture done\n",
      "Frame: 19  SNR:  29.12\n",
      "Frame: 20  SNR:  28.56\n",
      "Frame: 21  SNR:  28.78\n",
      "Frame: 22  SNR:  20.69\n",
      "Frame: 23  SNR:  21.27\n",
      "Frame: 24  SNR:  21.18\n",
      "Frame: 0  SNR:  21.25\n",
      "Frame: 1  SNR:  21.51\n",
      "Frame: 2  SNR:  21.86\n",
      "Frame: 3  SNR:  21.74\n",
      "Frame: 4  SNR:  22.33\n",
      "Frame: 5  SNR:  22.15\n",
      "Frame: 6  SNR:  21.61\n",
      "Frame: 7  SNR:  22.22\n",
      "Frame: 8  SNR:  22.98\n",
      "Frame: 9  SNR:  22.75\n",
      "Frame: 10  SNR:  23.32\n",
      "Frame: 11  SNR:  23.28\n",
      "Frame: 12  SNR:  23.70\n",
      "Frame: 13  SNR:  22.52\n",
      "Frame: 14  SNR:  23.62\n",
      "Frame: 15  SNR:  23.42\n",
      "Frame: 16  SNR:  23.18\n",
      "Frame: 17  SNR:  24.30\n",
      "Frame: 18  SNR:  24.18\n",
      "Frame: 19  SNR:  23.98\n",
      "Frame: 20  SNR:  24.10\n",
      "Frame: 21  SNR:  24.74\n",
      "Frame: 22  SNR:  24.06\n",
      "Frame: 23  SNR:  23.99\n",
      "Frame: 24  SNR:  24.71\n",
      "Frame: 0  SNR:  25.30\n",
      "Frame: 1  SNR:  23.75\n",
      "Frame: 2  SNR:  25.41\n",
      "Frame: 3  SNR:  24.68\n",
      "\n",
      "Process Successfully terminated\n"
     ]
    },
    {
     "data": {
      "text/plain": [
       "0"
      ]
     },
     "execution_count": 17,
     "metadata": {},
     "output_type": "execute_result"
    }
   ],
   "source": [
    "# Receiver receives first message\n",
    "subprocess.call(string2 + ' -dev_type decoder_noise -n_captures 3', shell= True)\n",
    "\n",
    "# Transmitter process kill\n",
    "subprocess.call('python3 /home/rajesh/ActiveFeedback/WirelessDL/Python/Automation/flowgraph_process_kill.py', shell= True)"
   ]
  },
  {
   "cell_type": "code",
   "execution_count": 18,
   "metadata": {},
   "outputs": [
    {
     "name": "stdout",
     "output_type": "stream",
     "text": [
      "\n",
      "Process Successfully terminated\n"
     ]
    },
    {
     "data": {
      "text/plain": [
       "0"
      ]
     },
     "execution_count": 18,
     "metadata": {},
     "output_type": "execute_result"
    }
   ],
   "source": [
    "subprocess.call('python3 flowgraph_process_kill.py', shell= True)"
   ]
  },
  {
   "cell_type": "code",
   "execution_count": 19,
   "metadata": {},
   "outputs": [
    {
     "name": "stdout",
     "output_type": "stream",
     "text": [
      "5.656197945139034e-07\n",
      "1.1518167944903402e-06\n"
     ]
    },
    {
     "data": {
      "image/png": "[encoded data removed]",
      "text/plain": [
       "<Figure size 432x288 with 1 Axes>"
      ]
     },
     "metadata": {
      "needs_background": "light"
     },
     "output_type": "display_data"
    }
   ],
   "source": [
    "\n",
    "\n",
    "Noise_Output = sio.loadmat('/home/rajesh/ActiveFeedback/WirelessDL/Python/Automation/Feedback_Files/Noise_Output.mat')\n",
    "Noise_Output = np.real(Noise_Output['Noise'])\n",
    "\n",
    "print(np.mean(Noise_Output))\n",
    "print(np.var(Noise_Output))\n",
    "\n",
    "plt.figure()\n",
    "plt.hist(Noise_Output, 200)\n",
    "plt.title('Additive Histogram Noise')\n",
    "plt.grid(True)\n",
    "plt.savefig('Figures/additive_noise.png')\n",
    "plt.show()\n",
    "\n"
   ]
  }
 ],
 "metadata": {
  "interpreter": {
   "hash": "31f2aee4e71d21fbe5cf8b01ff0e069b9275f58929596ceb00d14d90e3e16cd6"
  },
  "kernelspec": {
   "display_name": "Python 3.8.10 64-bit",
   "name": "python3"
  },
  "language_info": {
   "codemirror_mode": {
    "name": "ipython",
    "version": 3
   },
   "file_extension": ".py",
   "mimetype": "text/x-python",
   "name": "python",
   "nbconvert_exporter": "python",
   "pygments_lexer": "ipython3",
   "version": "3.8.10"
  },
  "orig_nbformat": 4
 },
 "nbformat": 4,
 "nbformat_minor": 2
}
