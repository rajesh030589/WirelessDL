{
 "cells": [
  {
   "cell_type": "code",
   "execution_count": 70,
   "metadata": {},
   "outputs": [],
   "source": [
    "import numpy as np\n",
    "import matlab.engine\n",
    "import os\n",
    "import signal\n",
    "import time\n",
    "import scipy.io as sio\n",
    "import time\n",
    "import subprocess\n",
    "import matplotlib.pyplot as plt"
   ]
  },
  {
   "cell_type": "code",
   "execution_count": 71,
   "metadata": {},
   "outputs": [],
   "source": [
    "forward_tx_gain = 5\n",
    "forward_rx_gain = 12\n",
    "backward_tx_gain = 10\n",
    "backward_rx_gain = 15"
   ]
  },
  {
   "cell_type": "code",
   "execution_count": 72,
   "metadata": {},
   "outputs": [],
   "source": [
    "\n",
    "string1 = 'python3 TX_Feedback.py -tx_gain ' + str(forward_tx_gain)\n",
    "string2 = 'python3 RX_Feedback.py -rx_gain ' + str(forward_rx_gain)"
   ]
  },
  {
   "cell_type": "code",
   "execution_count": 73,
   "metadata": {},
   "outputs": [
    {
     "name": "stdout",
     "output_type": "stream",
     "text": [
      "TX Noise generated\n",
      "TX Transmission starts\n"
     ]
    },
    {
     "data": {
      "text/plain": [
       "0"
      ]
     },
     "execution_count": 73,
     "metadata": {},
     "output_type": "execute_result"
    }
   ],
   "source": [
    "# Message generation\n",
    "subprocess.call(string1 + ' -dev_type encoder_channel', shell= True)"
   ]
  },
  {
   "cell_type": "code",
   "execution_count": 74,
   "metadata": {},
   "outputs": [
    {
     "name": "stdout",
     "output_type": "stream",
     "text": [
      "RX Reception 31 starts\n",
      "Capture : 1 ...\n",
      "Capture done\n",
      "Capture : 2 ...\n",
      "Capture done\n",
      "Capture : 3 ...\n",
      "Capture done\n",
      "Capture : 4 ...\n",
      "Capture done\n",
      "Capture : 5 ...\n",
      "Capture done\n",
      "Capture : 6 ...\n",
      "Capture done\n",
      "Capture : 7 ...\n",
      "Capture done\n",
      "Capture : 8 ...\n",
      "Capture done\n",
      "Capture : 9 ...\n",
      "Capture done\n",
      "Capture : 10 ...\n",
      "Capture done\n",
      "Capture : 11 ...\n",
      "Capture done\n",
      "Capture : 12 ...\n",
      "Capture done\n",
      "Capture : 13 ...\n",
      "Capture done\n",
      "Capture : 14 ...\n",
      "Capture done\n",
      "Capture : 15 ...\n",
      "Capture done\n",
      "Capture : 16 ...\n",
      "Capture done\n",
      "Capture : 17 ...\n",
      "Capture done\n",
      "Capture : 18 ...\n",
      "Capture done\n",
      "Capture : 19 ...\n",
      "Capture done\n",
      "Capture : 20 ...\n",
      "Capture done\n",
      "Capture : 21 ...\n",
      "Capture done\n",
      "Capture : 22 ...\n",
      "Capture done\n",
      "Capture : 23 ...\n",
      "Capture done\n",
      "Capture : 24 ...\n",
      "Capture done\n",
      "Capture : 25 ...\n",
      "Capture done\n",
      "Capture : 26 ...\n",
      "Capture done\n",
      "Capture : 27 ...\n",
      "Capture done\n",
      "Capture : 28 ...\n",
      "Capture done\n",
      "Capture : 29 ...\n",
      "Capture done\n",
      "Capture : 30 ...\n",
      "Capture done\n",
      "Capture : 31 ...\n",
      "Capture done\n",
      "Capture : 32 ...\n",
      "Capture done\n",
      "Capture : 33 ...\n",
      "Capture done\n",
      "Capture : 34 ...\n",
      "Capture done\n",
      "Capture : 35 ...\n",
      "Capture done\n",
      "Capture : 36 ...\n",
      "Capture done\n",
      "Capture : 37 ...\n",
      "Capture done\n",
      "Capture : 38 ...\n",
      "Capture done\n",
      "Capture : 39 ...\n",
      "Capture done\n",
      "Capture : 40 ...\n",
      "Capture done\n",
      "Capture : 41 ...\n",
      "Capture done\n",
      "Capture : 42 ...\n",
      "Capture done\n",
      "Capture : 43 ...\n",
      "Capture done\n",
      "Capture : 44 ...\n",
      "Capture done\n",
      "Capture : 45 ...\n",
      "Capture done\n",
      "Capture : 46 ...\n",
      "Capture done\n",
      "Capture : 47 ...\n",
      "Capture done\n",
      "Capture : 48 ...\n",
      "Capture done\n",
      "Capture : 49 ...\n",
      "Capture done\n",
      "Capture : 50 ...\n",
      "Capture done\n",
      "Capture : 51 ...\n",
      "Capture done\n",
      "Capture : 52 ...\n",
      "Capture done\n",
      "Capture : 53 ...\n",
      "Capture done\n",
      "Capture : 54 ...\n",
      "Capture done\n",
      "Capture : 55 ...\n",
      "Capture done\n",
      "Capture : 56 ...\n",
      "Capture done\n",
      "Capture : 57 ...\n",
      "Capture done\n",
      "Capture : 58 ...\n",
      "Capture done\n",
      "Capture : 59 ...\n",
      "Capture done\n",
      "Capture : 60 ...\n",
      "Capture done\n",
      "Capture : 61 ...\n",
      "Capture done\n",
      "Capture : 62 ...\n",
      "Capture done\n",
      "Capture : 63 ...\n",
      "Capture done\n",
      "Capture : 64 ...\n",
      "Capture done\n",
      "Capture : 65 ...\n",
      "Capture done\n",
      "Capture : 66 ...\n",
      "Capture done\n",
      "Capture : 67 ...\n",
      "Capture done\n",
      "Capture : 68 ...\n",
      "Capture done\n",
      "Capture : 69 ...\n",
      "Capture done\n",
      "Capture : 70 ...\n",
      "Capture done\n",
      "Capture : 71 ...\n",
      "Capture done\n",
      "Capture : 72 ...\n",
      "Capture done\n",
      "Capture : 73 ...\n",
      "Capture done\n",
      "Capture : 74 ...\n",
      "Capture done\n",
      "Capture : 75 ...\n",
      "Capture done\n",
      "Capture : 76 ...\n",
      "Capture done\n",
      "Capture : 77 ...\n",
      "Capture done\n",
      "Capture : 78 ...\n",
      "Capture done\n",
      "Capture : 79 ...\n",
      "Capture done\n",
      "Capture : 80 ...\n",
      "Capture done\n",
      "Capture : 81 ...\n",
      "Capture done\n",
      "Capture : 82 ...\n",
      "Capture done\n",
      "Capture : 83 ...\n",
      "Capture done\n",
      "Capture : 84 ...\n",
      "Capture done\n",
      "Capture : 85 ...\n",
      "Capture done\n",
      "Capture : 86 ...\n",
      "Capture done\n",
      "Capture : 87 ...\n",
      "Capture done\n",
      "Capture : 88 ...\n",
      "Capture done\n",
      "Capture : 89 ...\n",
      "Capture done\n",
      "Capture : 90 ...\n",
      "Capture done\n",
      "Capture : 91 ...\n",
      "Capture done\n",
      "Capture : 92 ...\n",
      "Capture done\n",
      "Capture : 93 ...\n",
      "Capture done\n",
      "Capture : 94 ...\n",
      "Capture done\n",
      "Capture : 95 ...\n",
      "Capture done\n",
      "Capture : 96 ...\n",
      "Capture done\n",
      "Capture : 97 ...\n",
      "Capture done\n",
      "Capture : 98 ...\n",
      "Capture done\n",
      "Capture : 99 ...\n",
      "Capture done\n",
      "Capture : 100 ...\n",
      "Capture done\n",
      "\n",
      "Process Successfully terminated\n"
     ]
    },
    {
     "data": {
      "text/plain": [
       "0"
      ]
     },
     "execution_count": 74,
     "metadata": {},
     "output_type": "execute_result"
    }
   ],
   "source": [
    "# Receiver receives first message\n",
    "subprocess.call(string2 + ' -dev_type decoder_channel -n_captures 100', shell= True)\n",
    "\n",
    "# Transmitter process kill\n",
    "subprocess.call('python3 /home/rajesh/ActiveFeedback/WirelessDL/Python/Automation/flowgraph_process_kill.py', shell= True)"
   ]
  },
  {
   "cell_type": "code",
   "execution_count": 75,
   "metadata": {},
   "outputs": [
    {
     "name": "stdout",
     "output_type": "stream",
     "text": [
      "\n",
      "Process Successfully terminated\n"
     ]
    },
    {
     "data": {
      "text/plain": [
       "0"
      ]
     },
     "execution_count": 75,
     "metadata": {},
     "output_type": "execute_result"
    }
   ],
   "source": [
    "subprocess.call('python3 flowgraph_process_kill.py', shell= True)"
   ]
  },
  {
   "cell_type": "code",
   "execution_count": 82,
   "metadata": {},
   "outputs": [
    {
     "name": "stdout",
     "output_type": "stream",
     "text": [
      "0.014710272540105563\n",
      "2.7909359243993684e-05\n"
     ]
    },
    {
     "data": {
      "image/png": "[encoded data removed]",
      "text/plain": [
       "<Figure size 432x288 with 1 Axes>"
      ]
     },
     "metadata": {
      "needs_background": "light"
     },
     "output_type": "display_data"
    },
    {
     "data": {
      "image/png": "[encoded data removed]",
      "text/plain": [
       "<Figure size 432x288 with 1 Axes>"
      ]
     },
     "metadata": {
      "needs_background": "light"
     },
     "output_type": "display_data"
    }
   ],
   "source": [
    "Channel_Output = sio.loadmat('/home/rajesh/ActiveFeedback/WirelessDL/Python/Automation/Feedback_Files/Channel_Output.mat')\n",
    "Channel_OutputM = np.abs(Channel_Output['Channel'])\n",
    "Channel_OutputP = np.imag(Channel_Output['Channel'])\n",
    "\n",
    "\n",
    "\n",
    "print(np.mean(Channel_OutputM))\n",
    "print(np.var(Channel_OutputM))\n",
    "\n",
    "\n",
    "\n",
    "plt.figure()\n",
    "plt.hist(Channel_OutputM[1::52], 200)\n",
    "plt.title('Channel Histogram')\n",
    "plt.grid(True)\n",
    "plt.savefig('Figures/channelM.png')\n",
    "plt.show()\n",
    "\n",
    "plt.figure()\n",
    "plt.hist(Channel_OutputP, 200)\n",
    "plt.title('Channel Histogram')\n",
    "plt.grid(True)\n",
    "plt.savefig('Figures/channelP.png')\n",
    "plt.show()\n"
   ]
  }
 ],
 "metadata": {
  "interpreter": {
   "hash": "31f2aee4e71d21fbe5cf8b01ff0e069b9275f58929596ceb00d14d90e3e16cd6"
  },
  "kernelspec": {
   "display_name": "Python 3.8.10 64-bit",
   "name": "python3"
  },
  "language_info": {
   "codemirror_mode": {
    "name": "ipython",
    "version": 3
   },
   "file_extension": ".py",
   "mimetype": "text/x-python",
   "name": "python",
   "nbconvert_exporter": "python",
   "pygments_lexer": "ipython3",
   "version": "3.8.10"
  },
  "orig_nbformat": 4
 },
 "nbformat": 4,
 "nbformat_minor": 2
}
