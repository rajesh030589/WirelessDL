{
 "cells": [
  {
   "cell_type": "code",
   "execution_count": 21,
   "metadata": {},
   "outputs": [],
   "source": [
    "import numpy as np\n",
    "import matlab.engine\n",
    "from datetime import date\n",
    "import os\n",
    "import scipy.io as sio\n",
    "import pickle as pkl\n",
    "import matplotlib.pyplot as plt\n",
    "import os\n",
    "from Sanity import check_dataset\n",
    "from tqdm import tqdm\n",
    "from data_utils import save_datafiles, plot_histogram"
   ]
  },
  {
   "cell_type": "markdown",
   "metadata": {},
   "source": [
    "Parameters"
   ]
  },
  {
   "cell_type": "code",
   "execution_count": 22,
   "metadata": {},
   "outputs": [],
   "source": [
    "sanity_check = True\n",
    "OTA_data = True\n",
    "Frame_802_11 = True\n",
    "N_captures = 40\n",
    "save_data = False"
   ]
  },
  {
   "cell_type": "markdown",
   "metadata": {},
   "source": [
    "Create Folder"
   ]
  },
  {
   "cell_type": "code",
   "execution_count": 23,
   "metadata": {},
   "outputs": [],
   "source": [
    "if save_data:\n",
    "    id = \"QPSK_BL_104_OTA\"\n",
    "\n",
    "    if OTA_data == True and Frame_802_11 == False:\n",
    "        raise Exception(\"OTA Data must be Framed\")\n",
    "\n",
    "    current_date = date.today()\n",
    "    file_name = \"Datasets/Dataset_\" + str(id) + \"_\" + str(current_date)\n",
    "\n",
    "    # make a folder for today's data\n",
    "    try:\n",
    "        try:\n",
    "            os.mkdir(\"Datasets\")\n",
    "        except:\n",
    "            pass\n",
    "        os.mkdir(file_name)\n",
    "        os.mkdir(file_name + \"/Figures\")\n",
    "    except:\n",
    "        pass"
   ]
  },
  {
   "cell_type": "markdown",
   "metadata": {},
   "source": [
    "Generate TX"
   ]
  },
  {
   "cell_type": "code",
   "execution_count": 24,
   "metadata": {},
   "outputs": [],
   "source": [
    "eng = matlab.engine.start_matlab()"
   ]
  },
  {
   "cell_type": "code",
   "execution_count": 25,
   "metadata": {},
   "outputs": [],
   "source": [
    "if Frame_802_11:\n",
    "    eng.TX_data_generate(\"802_11 Framed\", nargout=0)\n",
    "else:\n",
    "    eng.TX_data_generate(\"Raw Data\", nargout=0)"
   ]
  },
  {
   "cell_type": "code",
   "execution_count": null,
   "metadata": {},
   "outputs": [],
   "source": [
    "if save_data:\n",
    "    Data_Input, Encoder_Output, Receiver_Output, Data_Output, Frame_Error = (\n",
    "        [],\n",
    "        [],\n",
    "        [],\n",
    "        [],\n",
    "        [],\n",
    "    )\n",
    "\n",
    "for i in tqdm(range(N_captures)):\n",
    "\n",
    "    if OTA_data:\n",
    "        os.system(\"python3 flow_graph_RX.py\")\n",
    "    else:\n",
    "        eng.awgn_channel(\"complex_noise\", nargout=0)\n",
    "\n",
    "    # Decode RX\n",
    "    if Frame_802_11:\n",
    "        eng.RX_data_extract(\"802_11 Framed\", nargout=0)\n",
    "    else:\n",
    "        eng.RX_data_extract(\"Raw Data\", nargout=0)\n",
    "\n",
    "    if save_data:\n",
    "        # Prepare Data\n",
    "        # Input Data\n",
    "        Data = sio.loadmat(\"Data_Files/Data_Input.mat\")\n",
    "        Data_Input.append(Data[\"Data_Input\"])\n",
    "\n",
    "        # Encoder Output\n",
    "        Data = sio.loadmat(\"Data_Files/Encoded_Output.mat\")\n",
    "        Encoder_Output.append(Data[\"Encoder_Output\"])\n",
    "\n",
    "        # Receiver Output\n",
    "        Data = sio.loadmat(\"Data_Files/Receiver_Output.mat\")\n",
    "        Receiver_Output.append(Data[\"Receiver_Output\"])\n",
    "\n",
    "        # Output LLR\n",
    "        Data = sio.loadmat(\"Data_Files/Data_Output.mat\")\n",
    "        Data_Output.append(Data[\"Data_Output\"])\n",
    "\n",
    "        # Frame Error\n",
    "        Data = sio.loadmat(\"Data_Files/Frame_Error.mat\")\n",
    "        Frame_Error.append(Data[\"Frame_Error\"])"
   ]
  }
 ],
 "metadata": {
  "interpreter": {
   "hash": "31f2aee4e71d21fbe5cf8b01ff0e069b9275f58929596ceb00d14d90e3e16cd6"
  },
  "kernelspec": {
   "display_name": "Python 3.8.10 64-bit",
   "name": "python3"
  },
  "language_info": {
   "codemirror_mode": {
    "name": "ipython",
    "version": 3
   },
   "file_extension": ".py",
   "mimetype": "text/x-python",
   "name": "python",
   "nbconvert_exporter": "python",
   "pygments_lexer": "ipython3",
   "version": "3.8.10"
  },
  "orig_nbformat": 4
 },
 "nbformat": 4,
 "nbformat_minor": 2
}
