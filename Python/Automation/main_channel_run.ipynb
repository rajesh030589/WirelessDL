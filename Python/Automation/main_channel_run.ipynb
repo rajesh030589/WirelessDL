{
 "cells": [
  {
   "cell_type": "code",
   "execution_count": 21,
   "metadata": {},
   "outputs": [],
   "source": [
    "import numpy as np\n",
    "import matlab.engine\n",
    "import os\n",
    "import signal\n",
    "import time\n",
    "import scipy.io as sio\n",
    "import time\n",
    "import subprocess\n",
    "import matplotlib.pyplot as plt"
   ]
  },
  {
   "cell_type": "code",
   "execution_count": 22,
   "metadata": {},
   "outputs": [],
   "source": [
    "forward_tx_gain = 5\n",
    "forward_rx_gain = 10"
   ]
  },
  {
   "cell_type": "code",
   "execution_count": 23,
   "metadata": {},
   "outputs": [],
   "source": [
    "\n",
    "string1 = 'python3 TX_Feedback.py -tx_gain ' + str(forward_tx_gain)\n",
    "string2 = 'python3 RX_Feedback.py -rx_gain ' + str(forward_rx_gain)"
   ]
  },
  {
   "cell_type": "code",
   "execution_count": 24,
   "metadata": {},
   "outputs": [
    {
     "name": "stdout",
     "output_type": "stream",
     "text": [
      "TX Noise generated\n",
      "TX Transmission starts\n"
     ]
    },
    {
     "data": {
      "text/plain": [
       "0"
      ]
     },
     "execution_count": 24,
     "metadata": {},
     "output_type": "execute_result"
    }
   ],
   "source": [
    "# Message generation\n",
    "subprocess.call(string1 + ' -dev_type encoder_channel', shell= True)"
   ]
  },
  {
   "cell_type": "code",
   "execution_count": 25,
   "metadata": {},
   "outputs": [
    {
     "name": "stdout",
     "output_type": "stream",
     "text": [
      "RX Reception 31 starts\n",
      "Capture : 1 ...\n",
      "Capture done\n",
      "Capture : 2 ...\n",
      "Capture done\n",
      "Capture : 3 ...\n",
      "Capture done\n",
      "Capture : 4 ...\n",
      "Capture done\n",
      "Capture : 5 ...\n",
      "Capture done\n",
      "Capture : 6 ...\n",
      "Capture done\n",
      "Capture : 7 ...\n",
      "Capture done\n",
      "Capture : 8 ...\n",
      "Capture done\n",
      "Capture : 9 ...\n",
      "Capture done\n",
      "Capture : 10 ...\n",
      "Capture done\n",
      "Capture : 11 ...\n",
      "Capture done\n",
      "Capture : 12 ...\n",
      "Capture done\n",
      "Capture : 13 ...\n",
      "Capture done\n",
      "Capture : 14 ...\n",
      "Capture done\n",
      "Capture : 15 ...\n",
      "Capture done\n",
      "Capture : 16 ...\n",
      "Capture done\n",
      "Capture : 17 ...\n",
      "Capture done\n",
      "Capture : 18 ...\n",
      "Capture done\n",
      "Capture : 19 ...\n",
      "Capture done\n",
      "Capture : 20 ...\n",
      "Capture done\n",
      "Capture : 21 ...\n",
      "Capture done\n",
      "Capture : 22 ...\n",
      "Capture done\n",
      "Capture : 23 ...\n",
      "Capture done\n",
      "Capture : 24 ...\n",
      "Capture done\n",
      "Capture : 25 ...\n",
      "Capture done\n",
      "Capture : 26 ...\n",
      "Capture done\n",
      "Capture : 27 ...\n",
      "Capture done\n",
      "Capture : 28 ...\n",
      "Capture done\n",
      "Capture : 29 ...\n",
      "Capture done\n",
      "Capture : 30 ...\n",
      "Capture done\n",
      "\n",
      "Process Successfully terminated\n"
     ]
    },
    {
     "data": {
      "text/plain": [
       "0"
      ]
     },
     "execution_count": 25,
     "metadata": {},
     "output_type": "execute_result"
    }
   ],
   "source": [
    "# Receiver receives first message\n",
    "subprocess.call(string2 + ' -dev_type decoder_channel -n_captures 30', shell= True)\n",
    "\n",
    "# Transmitter process kill\n",
    "subprocess.call('python3 flowgraph_process_kill.py', shell= True)"
   ]
  },
  {
   "cell_type": "code",
   "execution_count": 26,
   "metadata": {},
   "outputs": [
    {
     "name": "stdout",
     "output_type": "stream",
     "text": [
      "\n",
      "Process Successfully terminated\n"
     ]
    },
    {
     "data": {
      "text/plain": [
       "0"
      ]
     },
     "execution_count": 26,
     "metadata": {},
     "output_type": "execute_result"
    }
   ],
   "source": [
    "subprocess.call('python3 flowgraph_process_kill.py', shell= True)"
   ]
  },
  {
   "cell_type": "code",
   "execution_count": 27,
   "metadata": {},
   "outputs": [
    {
     "name": "stdout",
     "output_type": "stream",
     "text": [
      "0.012277573124321072\n",
      "9.831405275004152e-06\n"
     ]
    },
    {
     "data": {
      "image/png": "[encoded data removed]",
      "text/plain": [
       "<Figure size 432x288 with 1 Axes>"
      ]
     },
     "metadata": {
      "needs_background": "light"
     },
     "output_type": "display_data"
    },
    {
     "data": {
      "image/png": "[encoded data removed]",
      "text/plain": [
       "<Figure size 432x288 with 1 Axes>"
      ]
     },
     "metadata": {
      "needs_background": "light"
     },
     "output_type": "display_data"
    }
   ],
   "source": [
    "Channel_Output = sio.loadmat('/home/rajesh/ActiveFeedback/WirelessDL/Python/Automation/Channel_Files/Channel_Output.mat')\n",
    "Channel_OutputM = np.abs(Channel_Output['Channel'])\n",
    "Channel_OutputP = np.imag(Channel_Output['Channel'])\n",
    "\n",
    "print(np.mean(Channel_OutputM))\n",
    "print(np.var(Channel_OutputM))\n",
    "\n",
    "plt.figure()\n",
    "plt.hist(Channel_OutputM[1::52], 200)\n",
    "plt.title('Channel Histogram')\n",
    "plt.grid(True)\n",
    "plt.savefig('Figures/channelM.png')\n",
    "plt.show()\n",
    "\n",
    "plt.figure()\n",
    "plt.hist(Channel_OutputP, 200)\n",
    "plt.title('Channel Histogram')\n",
    "plt.grid(True)\n",
    "plt.savefig('Figures/channelP.png')\n",
    "plt.show()\n"
   ]
  }
 ],
 "metadata": {
  "interpreter": {
   "hash": "31f2aee4e71d21fbe5cf8b01ff0e069b9275f58929596ceb00d14d90e3e16cd6"
  },
  "kernelspec": {
   "display_name": "Python 3 (ipykernel)",
   "language": "python",
   "name": "python3"
  },
  "language_info": {
   "codemirror_mode": {
    "name": "ipython",
    "version": 3
   },
   "file_extension": ".py",
   "mimetype": "text/x-python",
   "name": "python",
   "nbconvert_exporter": "python",
   "pygments_lexer": "ipython3",
   "version": "3.8.10"
  },
  "orig_nbformat": 4
 },
 "nbformat": 4,
 "nbformat_minor": 2
}
