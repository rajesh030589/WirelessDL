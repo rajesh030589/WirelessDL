{
 "cells": [
  {
   "cell_type": "code",
   "execution_count": 67,
   "metadata": {},
   "outputs": [],
   "source": [
    "import numpy as np\n",
    "import matlab.engine\n",
    "import os\n",
    "import signal\n",
    "import time\n",
    "import scipy.io as sio\n",
    "import time\n",
    "import subprocess\n",
    "import matplotlib.pyplot as plt"
   ]
  },
  {
   "cell_type": "code",
   "execution_count": 68,
   "metadata": {},
   "outputs": [],
   "source": [
    "forward_tx_gain = 10\n",
    "forward_rx_gain = 15\n",
    "backward_tx_gain = 15\n",
    "backward_rx_gain = 20"
   ]
  },
  {
   "cell_type": "code",
   "execution_count": 69,
   "metadata": {},
   "outputs": [],
   "source": [
    "\n",
    "string1 = 'python3 TX_Feedback.py -tx_gain ' + str(forward_tx_gain)\n",
    "string2 = 'python3 RX_Feedback.py -rx_gain ' + str(forward_rx_gain)\n",
    "string3 = 'python3 TX_Feedback.py -rx_gain ' + str(backward_rx_gain)\n",
    "string4 = 'python3 RX_Feedback.py -rx_gain ' + str(backward_tx_gain)"
   ]
  },
  {
   "cell_type": "code",
   "execution_count": 70,
   "metadata": {},
   "outputs": [
    {
     "name": "stdout",
     "output_type": "stream",
     "text": [
      "\n",
      "PROCESS BEGINS\n",
      "\n",
      "TX Encoder 1 generated\n",
      "TX Transmission 1 starts\n"
     ]
    },
    {
     "data": {
      "text/plain": [
       "0"
      ]
     },
     "execution_count": 70,
     "metadata": {},
     "output_type": "execute_result"
    }
   ],
   "source": [
    "# Message generation\n",
    "subprocess.call(string1 + ' -dev_type encoder -num 1', shell= True)"
   ]
  },
  {
   "cell_type": "code",
   "execution_count": 71,
   "metadata": {},
   "outputs": [
    {
     "data": {
      "image/png": "[encoded data removed]",
      "text/plain": [
       "<Figure size 432x288 with 1 Axes>"
      ]
     },
     "metadata": {
      "needs_background": "light"
     },
     "output_type": "display_data"
    }
   ],
   "source": [
    "Bit_Input = sio.loadmat('/home/rajesh/ActiveFeedback/WirelessDL/Python/Automation/Feedback_Files/Bit_Input.mat')\n",
    "Bit_Input = Bit_Input['Bit_Input']\n",
    "\n",
    "C1_Output = sio.loadmat('/home/rajesh/ActiveFeedback/WirelessDL/Python/Automation/Feedback_Files/C1_Output.mat')\n",
    "C1_Output = C1_Output['C1_Output']\n",
    "\n",
    "\n",
    "plt.scatter(Bit_Input[np.where(Bit_Input==0)], C1_Output[np.where(Bit_Input==0)], color = 'r')\n",
    "plt.scatter(Bit_Input[np.where(Bit_Input==1)], C1_Output[np.where(Bit_Input==1)], color = 'b')\n",
    "plt.xlabel('Bit input')\n",
    "plt.ylabel('C1 Output')\n",
    "plt.grid(True)\n",
    "plt.xlim([-1, 2])\n",
    "plt.ylim([-2, 2])\n",
    "plt.show()"
   ]
  },
  {
   "cell_type": "code",
   "execution_count": 72,
   "metadata": {},
   "outputs": [
    {
     "name": "stdout",
     "output_type": "stream",
     "text": [
      "RX Reception 1 starts\n",
      "Capture : 1 ...\n",
      "Capture done\n",
      "Frame: 0  SNR:  28.56  BER: 0.0000\n",
      "\n",
      "All frames captured\n",
      "\n",
      "Process Successfully terminated\n"
     ]
    },
    {
     "data": {
      "text/plain": [
       "0"
      ]
     },
     "execution_count": 72,
     "metadata": {},
     "output_type": "execute_result"
    }
   ],
   "source": [
    "# Receiver receives first message\n",
    "subprocess.call(string2 + ' -dev_type decoder -num 1', shell= True)\n",
    "\n",
    "# Transmitter process kill\n",
    "subprocess.call('python3 /home/rajesh/ActiveFeedback/WirelessDL/Python/Automation/flowgraph_process_kill.py', shell= True)"
   ]
  },
  {
   "cell_type": "code",
   "execution_count": 73,
   "metadata": {},
   "outputs": [
    {
     "data": {
      "image/png": "[encoded data removed]",
      "text/plain": [
       "<Figure size 432x288 with 1 Axes>"
      ]
     },
     "metadata": {
      "needs_background": "light"
     },
     "output_type": "display_data"
    }
   ],
   "source": [
    "Bit_Input = sio.loadmat('/home/rajesh/ActiveFeedback/WirelessDL/Python/Automation/Feedback_Files/Bit_Input.mat')\n",
    "Bit_Input = Bit_Input['Bit_Input']\n",
    "\n",
    "C1_Output = sio.loadmat('/home/rajesh/ActiveFeedback/WirelessDL/Python/Automation/Feedback_Files/C1_Output.mat')\n",
    "C1_Output = C1_Output['C1_Output']\n",
    "\n",
    "Y1_Output = sio.loadmat('/home/rajesh/ActiveFeedback/WirelessDL/Python/Automation/Feedback_Files/Y1_Output.mat')\n",
    "Y1_Output = Y1_Output['Y1_Output']\n",
    "\n",
    "\n",
    "plt.scatter(C1_Output[np.where(Bit_Input==0)], Y1_Output[np.where(Bit_Input==0)], color = 'r')\n",
    "plt.scatter(C1_Output[np.where(Bit_Input==1)], Y1_Output[np.where(Bit_Input==1)], color = 'b')\n",
    "plt.xlabel('C1 Output')\n",
    "plt.ylabel('Y1 Output')\n",
    "plt.grid(True)\n",
    "plt.xlim([-2, 2])\n",
    "plt.ylim([-4, 4])\n",
    "plt.show()"
   ]
  },
  {
   "cell_type": "code",
   "execution_count": 74,
   "metadata": {},
   "outputs": [
    {
     "name": "stdout",
     "output_type": "stream",
     "text": [
      "RX Encoder 1 generated\n",
      "RX Transmission 1 starts\n"
     ]
    },
    {
     "data": {
      "text/plain": [
       "0"
      ]
     },
     "execution_count": 74,
     "metadata": {},
     "output_type": "execute_result"
    }
   ],
   "source": [
    "# first Feedback prepared by receiver\n",
    "subprocess.call(string4 + ' -dev_type encoder -num 1', shell= True)"
   ]
  },
  {
   "cell_type": "code",
   "execution_count": 75,
   "metadata": {},
   "outputs": [
    {
     "data": {
      "image/png": "[encoded data removed]",
      "text/plain": [
       "<Figure size 432x288 with 1 Axes>"
      ]
     },
     "metadata": {
      "needs_background": "light"
     },
     "output_type": "display_data"
    }
   ],
   "source": [
    "Bit_Input = sio.loadmat('/home/rajesh/ActiveFeedback/WirelessDL/Python/Automation/Feedback_Files/Bit_Input.mat')\n",
    "Bit_Input = Bit_Input['Bit_Input']\n",
    "\n",
    "Y1_Output = sio.loadmat('/home/rajesh/ActiveFeedback/WirelessDL/Python/Automation/Feedback_Files/Y1_Output.mat')\n",
    "Y1_Output = Y1_Output['Y1_Output']\n",
    "\n",
    "B1_Output = sio.loadmat('/home/rajesh/ActiveFeedback/WirelessDL/Python/Automation/Feedback_Files/B1_Output.mat')\n",
    "B1_Output = B1_Output['B1_Output']\n",
    "\n",
    "\n",
    "plt.scatter(Y1_Output[np.where(Bit_Input==0)], B1_Output[np.where(Bit_Input==0)], color = 'r')\n",
    "plt.scatter(Y1_Output[np.where(Bit_Input==1)], B1_Output[np.where(Bit_Input==1)], color = 'b')\n",
    "plt.xlabel('Y1 Output')\n",
    "plt.ylabel('B1 Output')\n",
    "plt.grid(True)\n",
    "plt.xlim([-3, 3])\n",
    "plt.ylim([-1.4, 1.4])\n",
    "plt.show()"
   ]
  },
  {
   "cell_type": "code",
   "execution_count": 76,
   "metadata": {},
   "outputs": [
    {
     "name": "stdout",
     "output_type": "stream",
     "text": [
      "TX Reception 1 starts\n",
      "Capture : 1 ...\n",
      "Capture done\n",
      "Frame: 0  SNR:  21.81\n",
      "\n",
      "All frames captured\n",
      "\n",
      "Process Successfully terminated\n"
     ]
    },
    {
     "data": {
      "text/plain": [
       "0"
      ]
     },
     "execution_count": 76,
     "metadata": {},
     "output_type": "execute_result"
    }
   ],
   "source": [
    "# Transmitter received feedback\n",
    "subprocess.call(string3 + ' -dev_type decoder -num 1', shell= True)\n",
    "\n",
    "# Receiver transmitter process killed\n",
    "subprocess.call('python3 flowgraph_process_kill.py', shell= True)"
   ]
  },
  {
   "cell_type": "code",
   "execution_count": 77,
   "metadata": {},
   "outputs": [
    {
     "data": {
      "image/png": "[encoded data removed]",
      "text/plain": [
       "<Figure size 432x288 with 1 Axes>"
      ]
     },
     "metadata": {
      "needs_background": "light"
     },
     "output_type": "display_data"
    }
   ],
   "source": [
    "Bit_Input = sio.loadmat('/home/rajesh/ActiveFeedback/WirelessDL/Python/Automation/Feedback_Files/Bit_Input.mat')\n",
    "Bit_Input = Bit_Input['Bit_Input']\n",
    "\n",
    "B1_Output = sio.loadmat('/home/rajesh/ActiveFeedback/WirelessDL/Python/Automation/Feedback_Files/B1_Output.mat')\n",
    "B1_Output = B1_Output['B1_Output']\n",
    "\n",
    "Z1_Output = sio.loadmat('/home/rajesh/ActiveFeedback/WirelessDL/Python/Automation/Feedback_Files/Z1_Output.mat')\n",
    "Z1_Output = Z1_Output['Z1_Output']\n",
    "\n",
    "\n",
    "plt.scatter(B1_Output[np.where(Bit_Input==0)], Z1_Output[np.where(Bit_Input==0)], color = 'r')\n",
    "plt.scatter(B1_Output[np.where(Bit_Input==1)], Z1_Output[np.where(Bit_Input==1)], color = 'b')\n",
    "plt.xlabel('B1 Output')\n",
    "plt.ylabel('Z1 Output')\n",
    "plt.grid(True)\n",
    "plt.xlim([-2, 2])\n",
    "plt.ylim([-2, 2])\n",
    "plt.show()"
   ]
  },
  {
   "cell_type": "code",
   "execution_count": 78,
   "metadata": {},
   "outputs": [
    {
     "name": "stdout",
     "output_type": "stream",
     "text": [
      "TX Encoder 2 generated\n",
      "TX Transmission 2 starts\n"
     ]
    },
    {
     "data": {
      "text/plain": [
       "0"
      ]
     },
     "execution_count": 78,
     "metadata": {},
     "output_type": "execute_result"
    }
   ],
   "source": [
    "# Feedback received and second transmission prepared\n",
    "subprocess.call(string1 + ' -dev_type encoder -num 2', shell= True)"
   ]
  },
  {
   "cell_type": "code",
   "execution_count": 79,
   "metadata": {},
   "outputs": [
    {
     "data": {
      "image/png": "[encoded data removed]",
      "text/plain": [
       "<Figure size 432x288 with 1 Axes>"
      ]
     },
     "metadata": {
      "needs_background": "light"
     },
     "output_type": "display_data"
    }
   ],
   "source": [
    "Bit_Input = sio.loadmat('/home/rajesh/ActiveFeedback/WirelessDL/Python/Automation/Feedback_Files/Bit_Input.mat')\n",
    "Bit_Input = Bit_Input['Bit_Input']\n",
    "\n",
    "Z1_Output = sio.loadmat('/home/rajesh/ActiveFeedback/WirelessDL/Python/Automation/Feedback_Files/Z1_Output.mat')\n",
    "Z1_Output = Z1_Output['Z1_Output']\n",
    "\n",
    "C2_Output = sio.loadmat('/home/rajesh/ActiveFeedback/WirelessDL/Python/Automation/Feedback_Files/C2_Output.mat')\n",
    "C2_Output = C2_Output['C2_Output']\n",
    "\n",
    "\n",
    "plt.scatter(Z1_Output[np.where(Bit_Input==0)], C2_Output[np.where(Bit_Input==0)], color = 'r')\n",
    "plt.scatter(Z1_Output[np.where(Bit_Input==1)], C2_Output[np.where(Bit_Input==1)], color = 'b')\n",
    "plt.xlabel('Z1 Output')\n",
    "plt.ylabel('C2 Output')\n",
    "plt.grid(True)\n",
    "plt.xlim([-2, 2])\n",
    "plt.ylim([-2, 2])\n",
    "plt.show()"
   ]
  },
  {
   "cell_type": "code",
   "execution_count": 80,
   "metadata": {},
   "outputs": [
    {
     "name": "stdout",
     "output_type": "stream",
     "text": [
      "RX Reception 2 starts\n",
      "capture : 1 ...\n",
      "Capture done\n",
      "Frame: 0  SNR:  30.12\n",
      "\n",
      "All frames captured\n",
      "\n",
      "Process Successfully terminated\n"
     ]
    },
    {
     "data": {
      "text/plain": [
       "0"
      ]
     },
     "execution_count": 80,
     "metadata": {},
     "output_type": "execute_result"
    }
   ],
   "source": [
    "# Receiver receives second message\n",
    "subprocess.call(string2 + ' -dev_type decoder -num 2', shell= True)\n",
    "\n",
    "# Transmitter process kill\n",
    "subprocess.call('python3 /home/rajesh/ActiveFeedback/WirelessDL/Python/Automation/flowgraph_process_kill.py', shell= True)"
   ]
  },
  {
   "cell_type": "code",
   "execution_count": 81,
   "metadata": {},
   "outputs": [
    {
     "data": {
      "image/png": "[encoded data removed]",
      "text/plain": [
       "<Figure size 432x288 with 1 Axes>"
      ]
     },
     "metadata": {
      "needs_background": "light"
     },
     "output_type": "display_data"
    }
   ],
   "source": [
    "Bit_Input = sio.loadmat('/home/rajesh/ActiveFeedback/WirelessDL/Python/Automation/Feedback_Files/Bit_Input.mat')\n",
    "Bit_Input = Bit_Input['Bit_Input']\n",
    "\n",
    "C2_Output = sio.loadmat('/home/rajesh/ActiveFeedback/WirelessDL/Python/Automation/Feedback_Files/C2_Output.mat')\n",
    "C2_Output = C2_Output['C2_Output']\n",
    "\n",
    "Y2_Output = sio.loadmat('/home/rajesh/ActiveFeedback/WirelessDL/Python/Automation/Feedback_Files/Y2_Output.mat')\n",
    "Y2_Output = Y2_Output['Y2_Output']\n",
    "\n",
    "\n",
    "plt.scatter(C2_Output[np.where(Bit_Input==0)], Y2_Output[np.where(Bit_Input==0)], color = 'r')\n",
    "plt.scatter(C2_Output[np.where(Bit_Input==1)], Y2_Output[np.where(Bit_Input==1)], color = 'b')\n",
    "plt.xlabel('C2 Output')\n",
    "plt.ylabel('Y2 Output')\n",
    "plt.grid(True)\n",
    "plt.xlim([-2, 2])\n",
    "plt.ylim([-4, 4])\n",
    "plt.show()"
   ]
  },
  {
   "cell_type": "code",
   "execution_count": 82,
   "metadata": {},
   "outputs": [
    {
     "name": "stdout",
     "output_type": "stream",
     "text": [
      "RX Encoder 2 generated\n",
      "RX Transmission 2 started\n"
     ]
    },
    {
     "data": {
      "text/plain": [
       "0"
      ]
     },
     "execution_count": 82,
     "metadata": {},
     "output_type": "execute_result"
    }
   ],
   "source": [
    "# final feedback Feedback prepared by receiver\n",
    "subprocess.call(string4 + ' -dev_type encoder -num 2', shell= True)"
   ]
  },
  {
   "cell_type": "code",
   "execution_count": 83,
   "metadata": {},
   "outputs": [
    {
     "data": {
      "image/png": "[encoded data removed]",
      "text/plain": [
       "<Figure size 432x288 with 1 Axes>"
      ]
     },
     "metadata": {
      "needs_background": "light"
     },
     "output_type": "display_data"
    }
   ],
   "source": [
    "Bit_Input = sio.loadmat('/home/rajesh/ActiveFeedback/WirelessDL/Python/Automation/Feedback_Files/Bit_Input.mat')\n",
    "Bit_Input = Bit_Input['Bit_Input']\n",
    "\n",
    "Y2_Output = sio.loadmat('/home/rajesh/ActiveFeedback/WirelessDL/Python/Automation/Feedback_Files/Y2_Output.mat')\n",
    "Y2_Output = Y2_Output['Y2_Output']\n",
    "\n",
    "B2_Output = sio.loadmat('/home/rajesh/ActiveFeedback/WirelessDL/Python/Automation/Feedback_Files/B2_Output.mat')\n",
    "B2_Output = B2_Output['B2_Output']\n",
    "\n",
    "\n",
    "plt.scatter(Y2_Output[np.where(Bit_Input==0)], B2_Output[np.where(Bit_Input==0)], color = 'r')\n",
    "plt.scatter(Y2_Output[np.where(Bit_Input==1)], B2_Output[np.where(Bit_Input==1)], color = 'b')\n",
    "plt.xlabel('Y2 Output')\n",
    "plt.ylabel('B2 Output')\n",
    "plt.grid(True)\n",
    "plt.xlim([-2, 2])\n",
    "plt.ylim([-4, 4])\n",
    "plt.show()"
   ]
  },
  {
   "cell_type": "code",
   "execution_count": 84,
   "metadata": {},
   "outputs": [
    {
     "name": "stdout",
     "output_type": "stream",
     "text": [
      "TX Reception 2 starts\n",
      "capture : 1 ...\n",
      "Capture done\n",
      "Frame: 0  SNR:  21.55\n",
      "\n",
      "All frames captured\n",
      "\n",
      "Process Successfully terminated\n"
     ]
    },
    {
     "data": {
      "text/plain": [
       "0"
      ]
     },
     "execution_count": 84,
     "metadata": {},
     "output_type": "execute_result"
    }
   ],
   "source": [
    "# Transmitter receives second feedback\n",
    "subprocess.call(string3 +' -dev_type decoder -num 2', shell= True)\n",
    "\n",
    "# Receiver transmitter process killed\n",
    "subprocess.call('python3 flowgraph_process_kill.py', shell= True)"
   ]
  },
  {
   "cell_type": "code",
   "execution_count": 85,
   "metadata": {},
   "outputs": [
    {
     "data": {
      "image/png": "[encoded data removed]",
      "text/plain": [
       "<Figure size 432x288 with 1 Axes>"
      ]
     },
     "metadata": {
      "needs_background": "light"
     },
     "output_type": "display_data"
    }
   ],
   "source": [
    "Bit_Input = sio.loadmat('/home/rajesh/ActiveFeedback/WirelessDL/Python/Automation/Feedback_Files/Bit_Input.mat')\n",
    "Bit_Input = Bit_Input['Bit_Input']\n",
    "\n",
    "B2_Output = sio.loadmat('/home/rajesh/ActiveFeedback/WirelessDL/Python/Automation/Feedback_Files/B2_Output.mat')\n",
    "B2_Output = B2_Output['B2_Output']\n",
    "\n",
    "Z2_Output = sio.loadmat('/home/rajesh/ActiveFeedback/WirelessDL/Python/Automation/Feedback_Files/Z2_Output.mat')\n",
    "Z2_Output = Z2_Output['Z2_Output']\n",
    "\n",
    "\n",
    "plt.scatter(B2_Output[np.where(Bit_Input==0)], Z2_Output[np.where(Bit_Input==0)], color = 'r')\n",
    "plt.scatter(B2_Output[np.where(Bit_Input==1)], Z2_Output[np.where(Bit_Input==1)], color = 'b')\n",
    "plt.xlabel('B2 Output')\n",
    "plt.ylabel('Z2 Output')\n",
    "plt.grid(True)\n",
    "plt.xlim([-2, 2])\n",
    "plt.ylim([-4, 4])\n",
    "plt.show()"
   ]
  },
  {
   "cell_type": "code",
   "execution_count": 86,
   "metadata": {},
   "outputs": [
    {
     "name": "stdout",
     "output_type": "stream",
     "text": [
      "TX Encoder 2 generated\n",
      "TX Transmission 3 starts\n"
     ]
    },
    {
     "data": {
      "text/plain": [
       "0"
      ]
     },
     "execution_count": 86,
     "metadata": {},
     "output_type": "execute_result"
    }
   ],
   "source": [
    "# Feedback received and second transmission prepared\n",
    "subprocess.call(string1 + ' -dev_type encoder -num 3', shell= True)"
   ]
  },
  {
   "cell_type": "code",
   "execution_count": 87,
   "metadata": {},
   "outputs": [
    {
     "data": {
      "image/png": "[encoded data removed]",
      "text/plain": [
       "<Figure size 432x288 with 1 Axes>"
      ]
     },
     "metadata": {
      "needs_background": "light"
     },
     "output_type": "display_data"
    }
   ],
   "source": [
    "Bit_Input = sio.loadmat('/home/rajesh/ActiveFeedback/WirelessDL/Python/Automation/Feedback_Files/Bit_Input.mat')\n",
    "Bit_Input = Bit_Input['Bit_Input']\n",
    "\n",
    "Z2_Output = sio.loadmat('/home/rajesh/ActiveFeedback/WirelessDL/Python/Automation/Feedback_Files/Z2_Output.mat')\n",
    "Z2_Output = Z2_Output['Z2_Output']\n",
    "\n",
    "C3_Output = sio.loadmat('/home/rajesh/ActiveFeedback/WirelessDL/Python/Automation/Feedback_Files/C3_Output.mat')\n",
    "C3_Output = C3_Output['C3_Output']\n",
    "\n",
    "\n",
    "plt.scatter(Z2_Output[np.where(Bit_Input==0)], C3_Output[np.where(Bit_Input==0)], color = 'r')\n",
    "plt.scatter(Z2_Output[np.where(Bit_Input==1)], C3_Output[np.where(Bit_Input==1)], color = 'b')\n",
    "plt.xlabel('Z2 Output')\n",
    "plt.ylabel('C3 Output')\n",
    "plt.grid(True)\n",
    "plt.xlim([-4, 4])\n",
    "plt.ylim([-2, 2])\n",
    "plt.show()"
   ]
  },
  {
   "cell_type": "code",
   "execution_count": 88,
   "metadata": {},
   "outputs": [
    {
     "name": "stdout",
     "output_type": "stream",
     "text": [
      "RX Reception 3 starts\n",
      "capture : 1 ...\n",
      "Capture done\n",
      "Frame: 0  SNR:  21.55\n",
      "\n",
      "All frames captured\n",
      "\n",
      "Process Successfully terminated\n"
     ]
    },
    {
     "data": {
      "text/plain": [
       "0"
      ]
     },
     "execution_count": 88,
     "metadata": {},
     "output_type": "execute_result"
    }
   ],
   "source": [
    "# Receiver receives final message\n",
    "subprocess.call(string2 + ' -dev_type decoder -num 3', shell= True)\n",
    "\n",
    "# Transmitter process kill\n",
    "subprocess.call('python3 /home/rajesh/ActiveFeedback/WirelessDL/Python/Automation/flowgraph_process_kill.py', shell= True)"
   ]
  },
  {
   "cell_type": "code",
   "execution_count": 89,
   "metadata": {},
   "outputs": [
    {
     "data": {
      "image/png": "[encoded data removed]",
      "text/plain": [
       "<Figure size 432x288 with 1 Axes>"
      ]
     },
     "metadata": {
      "needs_background": "light"
     },
     "output_type": "display_data"
    }
   ],
   "source": [
    "Bit_Input = sio.loadmat('/home/rajesh/ActiveFeedback/WirelessDL/Python/Automation/Feedback_Files/Bit_Input.mat')\n",
    "Bit_Input = Bit_Input['Bit_Input']\n",
    "\n",
    "C3_Output = sio.loadmat('/home/rajesh/ActiveFeedback/WirelessDL/Python/Automation/Feedback_Files/C3_Output.mat')\n",
    "C3_Output = C3_Output['C3_Output']\n",
    "\n",
    "Y3_Output = sio.loadmat('/home/rajesh/ActiveFeedback/WirelessDL/Python/Automation/Feedback_Files/Y3_Output.mat')\n",
    "Y3_Output = Y3_Output['Y3_Output']\n",
    "\n",
    "\n",
    "plt.scatter(C3_Output[np.where(Bit_Input==0)], Y3_Output[np.where(Bit_Input==0)], color = 'r')\n",
    "plt.scatter(C3_Output[np.where(Bit_Input==1)], Y3_Output[np.where(Bit_Input==1)], color = 'b')\n",
    "plt.xlabel('C3 Output')\n",
    "plt.ylabel('Y3 Output')\n",
    "plt.grid(True)\n",
    "plt.xlim([-2, 2])\n",
    "plt.ylim([-4, 4])\n",
    "plt.show()"
   ]
  },
  {
   "cell_type": "code",
   "execution_count": 90,
   "metadata": {},
   "outputs": [
    {
     "name": "stdout",
     "output_type": "stream",
     "text": [
      "Final Decoding starts\n",
      "Frame: 1  BER: 0.0000\n",
      "\n",
      "Process Ended\n",
      "\n"
     ]
    },
    {
     "data": {
      "text/plain": [
       "0"
      ]
     },
     "execution_count": 90,
     "metadata": {},
     "output_type": "execute_result"
    }
   ],
   "source": [
    "# Receiver does final decoding\n",
    "subprocess.call('python3 RX_Feedback.py -dev_type encoder -num 3', shell= True)"
   ]
  },
  {
   "cell_type": "code",
   "execution_count": 91,
   "metadata": {},
   "outputs": [
    {
     "data": {
      "image/png": "[encoded data removed]",
      "text/plain": [
       "<Figure size 432x288 with 1 Axes>"
      ]
     },
     "metadata": {
      "needs_background": "light"
     },
     "output_type": "display_data"
    }
   ],
   "source": [
    "Bit_Input = sio.loadmat('/home/rajesh/ActiveFeedback/WirelessDL/Python/Automation/Feedback_Files/Bit_Input.mat')\n",
    "Bit_Input = Bit_Input['Bit_Input']\n",
    "\n",
    "Y3_Output = sio.loadmat('/home/rajesh/ActiveFeedback/WirelessDL/Python/Automation/Feedback_Files/Y3_Output.mat')\n",
    "Y3_Output = Y3_Output['Y3_Output']\n",
    "\n",
    "BB3_Output = sio.loadmat('/home/rajesh/ActiveFeedback/WirelessDL/Python/Automation/Feedback_Files/BB3_Output.mat')\n",
    "BB3_Output = BB3_Output['BB3_Output']\n",
    "\n",
    "\n",
    "plt.scatter(Y3_Output[np.where(Bit_Input==0)], BB3_Output[np.where(Bit_Input==0)], color = 'r')\n",
    "plt.scatter(Y3_Output[np.where(Bit_Input==1)], BB3_Output[np.where(Bit_Input==1)], color = 'b')\n",
    "plt.xlabel('Y3 Output')\n",
    "plt.ylabel('BB3 Output')\n",
    "plt.grid(True)\n",
    "plt.xlim([-2, 2])\n",
    "plt.ylim([-0.5, 1.5])\n",
    "plt.show()"
   ]
  },
  {
   "cell_type": "code",
   "execution_count": 92,
   "metadata": {},
   "outputs": [
    {
     "name": "stdout",
     "output_type": "stream",
     "text": [
      "Initial BER:  [0.]\n",
      "Final BER:  [0.]\n"
     ]
    }
   ],
   "source": [
    "Bit_Input = sio.loadmat('/home/rajesh/ActiveFeedback/WirelessDL/Python/Automation/Feedback_Files/Bit_Input.mat')\n",
    "Bit_Input = Bit_Input['Bit_Input']\n",
    "\n",
    "Y1_Output = sio.loadmat('/home/rajesh/ActiveFeedback/WirelessDL/Python/Automation/Feedback_Files/Y1_Output.mat')\n",
    "Y1_Output = Y1_Output['Y1_Output']\n",
    "\n",
    "BB3_Output = sio.loadmat('/home/rajesh/ActiveFeedback/WirelessDL/Python/Automation/Feedback_Files/BB3_Output.mat')\n",
    "BB3_Output = BB3_Output['BB3_Output']\n",
    "\n",
    "D1_output = np.zeros((len(Y1_Output),1))\n",
    "D2_output = np.zeros((len(BB3_Output),1))\n",
    "\n",
    "D1_output = np.where(Y1_Output>0, D1_output, 1)\n",
    "D2_output = np.where(BB3_Output>0.5, D2_output, 1)\n",
    "\n",
    "BER1 = 1 - sum(abs(D1_output - Bit_Input))/len(Bit_Input)\n",
    "BER2 = 1 - sum(abs(D2_output - Bit_Input))/len(Bit_Input)\n",
    "\n",
    "print('Initial BER: ' , BER1)\n",
    "print('Final BER: ' , BER2)"
   ]
  },
  {
   "cell_type": "code",
   "execution_count": 93,
   "metadata": {},
   "outputs": [
    {
     "name": "stdout",
     "output_type": "stream",
     "text": [
      "\n",
      "Process Successfully terminated\n"
     ]
    },
    {
     "data": {
      "text/plain": [
       "0"
      ]
     },
     "execution_count": 93,
     "metadata": {},
     "output_type": "execute_result"
    }
   ],
   "source": [
    "subprocess.call('python3 flowgraph_process_kill.py', shell= True)"
   ]
  }
 ],
 "metadata": {
  "interpreter": {
   "hash": "31f2aee4e71d21fbe5cf8b01ff0e069b9275f58929596ceb00d14d90e3e16cd6"
  },
  "kernelspec": {
   "display_name": "Python 3.8.10 64-bit",
   "name": "python3"
  },
  "language_info": {
   "codemirror_mode": {
    "name": "ipython",
    "version": 3
   },
   "file_extension": ".py",
   "mimetype": "text/x-python",
   "name": "python",
   "nbconvert_exporter": "python",
   "pygments_lexer": "ipython3",
   "version": "3.8.10"
  },
  "orig_nbformat": 4
 },
 "nbformat": 4,
 "nbformat_minor": 2
}
